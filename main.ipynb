{
 "cells": [
  {
   "cell_type": "code",
   "execution_count": 2,
   "id": "8286515d-677b-4236-b189-92fb12f445d0",
   "metadata": {},
   "outputs": [
    {
     "name": "stdout",
     "output_type": "stream",
     "text": [
      "Note: you may need to restart the kernel to use updated packages.\n",
      "Note: you may need to restart the kernel to use updated packages.\n"
     ]
    }
   ],
   "source": [
    "%pip install --upgrade pip -q\n",
    "%pip install -q -r requirements.txt -q"
   ]
  },
  {
   "cell_type": "code",
   "execution_count": 1,
   "id": "5c1612e9-3e20-4ccd-9320-b57e640f466a",
   "metadata": {},
   "outputs": [],
   "source": [
    "# Output file name\n",
    "OUTPUT_FILE = \"Premier_League_Analysis.xlsx\"\n",
    "\n",
    "# Set the season and league\n",
    "SEASON = \"24/25\"  # Current season\n",
    "LEAGUE = \"EPL\"    # English Premier League\n",
    "\n",
    "# List of column names\n",
    "COLUMNS = [\n",
    "    'W/L',\n",
    "    'T/X',\n",
    "    'Total of W',\n",
    "    'Home/Away',\n",
    "    'Correct score',\n",
    "    'HT',\n",
    "    'Total Goal O/E',\n",
    "    'Score O/E',\n",
    "    'Concede O/E',\n",
    "    'BTTS',\n",
    "    'Corner',\n",
    "    'Card',\n",
    "    'Corner HT',\n",
    "    'Card HT',\n",
    "    'ASIAN',\n",
    "    'Handicap Value',\n",
    "    'Date'\n",
    "]"
   ]
  },
  {
   "cell_type": "code",
   "execution_count": 2,
   "id": "1c40725f-4ee8-4b02-8239-125eabc2bae7",
   "metadata": {},
   "outputs": [
    {
     "name": "stdout",
     "output_type": "stream",
     "text": [
      "Python Version: `3.12.8 (tags/v3.12.8:2dc476b, Dec  3 2024, 19:30:04) [MSC v.1942 64 bit (AMD64)]`\n",
      "Base Python location: `C:\\Users\\LMT\\AppData\\Local\\Programs\\Python\\Python312`\n",
      "Current Environment location: `.venv_sofascore-scraper`\n",
      "\n"
     ]
    }
   ],
   "source": [
    "import sys\n",
    "import os\n",
    "# \n",
    "# Check Python version\n",
    "print(f\"Python Version: `{sys.version}`\")  # Detailed version info\n",
    "print(f\"Base Python location: `{sys.base_prefix}`\")\n",
    "print(f\"Current Environment location: `{os.path.basename(sys.prefix)}`\", end='\\n\\n')"
   ]
  },
  {
   "cell_type": "markdown",
   "id": "f335fa9e-c5e2-4766-9c9d-193b0af1c9ad",
   "metadata": {},
   "source": [
    "# Import tools and library"
   ]
  },
  {
   "cell_type": "code",
   "execution_count": 11,
   "id": "efa46767-ac96-475a-bee6-2962b58aa6a2",
   "metadata": {},
   "outputs": [],
   "source": [
    "from sofascore_scraper_tools import collect_teams_data, get_teams_in_league, save_excel\n",
    "import ScraperFC as sfc\n",
    "import pandas as pd"
   ]
  },
  {
   "cell_type": "markdown",
   "id": "32ddc0b2-b906-4fda-81db-850db678668d",
   "metadata": {},
   "source": [
    "# Get all matches in the league"
   ]
  },
  {
   "cell_type": "code",
   "execution_count": 5,
   "id": "7e886e56-f8bc-400e-82d3-00569336a788",
   "metadata": {},
   "outputs": [
    {
     "name": "stdout",
     "output_type": "stream",
     "text": [
      "Running\n"
     ]
    }
   ],
   "source": [
    "matches = pd.DataFrame(sfc.Sofascore().get_match_dicts(SEASON, LEAGUE)).sort_values('startTimestamp', ascending=False)\n",
    "# matches.head()"
   ]
  },
  {
   "cell_type": "markdown",
   "id": "13d4509c-1446-4f14-b567-41607ceef81c",
   "metadata": {},
   "source": [
    "# Get teams in the league"
   ]
  },
  {
   "cell_type": "code",
   "execution_count": 6,
   "id": "78a6752c-483b-4355-b166-5d464ec0567d",
   "metadata": {},
   "outputs": [
    {
     "data": {
      "text/html": [
       "<div>\n",
       "<style scoped>\n",
       "    .dataframe tbody tr th:only-of-type {\n",
       "        vertical-align: middle;\n",
       "    }\n",
       "\n",
       "    .dataframe tbody tr th {\n",
       "        vertical-align: top;\n",
       "    }\n",
       "\n",
       "    .dataframe thead th {\n",
       "        text-align: right;\n",
       "    }\n",
       "</style>\n",
       "<table border=\"1\" class=\"dataframe\">\n",
       "  <thead>\n",
       "    <tr style=\"text-align: right;\">\n",
       "      <th></th>\n",
       "      <th>0</th>\n",
       "    </tr>\n",
       "  </thead>\n",
       "  <tbody>\n",
       "    <tr>\n",
       "      <th>0</th>\n",
       "      <td>Arsenal</td>\n",
       "    </tr>\n",
       "    <tr>\n",
       "      <th>1</th>\n",
       "      <td>Aston Villa</td>\n",
       "    </tr>\n",
       "    <tr>\n",
       "      <th>2</th>\n",
       "      <td>Bournemouth</td>\n",
       "    </tr>\n",
       "    <tr>\n",
       "      <th>3</th>\n",
       "      <td>Brentford</td>\n",
       "    </tr>\n",
       "    <tr>\n",
       "      <th>4</th>\n",
       "      <td>Brighton &amp; Hove Albion</td>\n",
       "    </tr>\n",
       "    <tr>\n",
       "      <th>5</th>\n",
       "      <td>Chelsea</td>\n",
       "    </tr>\n",
       "    <tr>\n",
       "      <th>6</th>\n",
       "      <td>Crystal Palace</td>\n",
       "    </tr>\n",
       "    <tr>\n",
       "      <th>7</th>\n",
       "      <td>Everton</td>\n",
       "    </tr>\n",
       "    <tr>\n",
       "      <th>8</th>\n",
       "      <td>Fulham</td>\n",
       "    </tr>\n",
       "    <tr>\n",
       "      <th>9</th>\n",
       "      <td>Ipswich Town</td>\n",
       "    </tr>\n",
       "    <tr>\n",
       "      <th>10</th>\n",
       "      <td>Leicester City</td>\n",
       "    </tr>\n",
       "    <tr>\n",
       "      <th>11</th>\n",
       "      <td>Liverpool</td>\n",
       "    </tr>\n",
       "    <tr>\n",
       "      <th>12</th>\n",
       "      <td>Manchester City</td>\n",
       "    </tr>\n",
       "    <tr>\n",
       "      <th>13</th>\n",
       "      <td>Manchester United</td>\n",
       "    </tr>\n",
       "    <tr>\n",
       "      <th>14</th>\n",
       "      <td>Newcastle United</td>\n",
       "    </tr>\n",
       "    <tr>\n",
       "      <th>15</th>\n",
       "      <td>Nottingham Forest</td>\n",
       "    </tr>\n",
       "    <tr>\n",
       "      <th>16</th>\n",
       "      <td>Southampton</td>\n",
       "    </tr>\n",
       "    <tr>\n",
       "      <th>17</th>\n",
       "      <td>Tottenham Hotspur</td>\n",
       "    </tr>\n",
       "    <tr>\n",
       "      <th>18</th>\n",
       "      <td>West Ham United</td>\n",
       "    </tr>\n",
       "    <tr>\n",
       "      <th>19</th>\n",
       "      <td>Wolverhampton</td>\n",
       "    </tr>\n",
       "  </tbody>\n",
       "</table>\n",
       "</div>"
      ],
      "text/plain": [
       "                         0\n",
       "0                  Arsenal\n",
       "1              Aston Villa\n",
       "2              Bournemouth\n",
       "3                Brentford\n",
       "4   Brighton & Hove Albion\n",
       "5                  Chelsea\n",
       "6           Crystal Palace\n",
       "7                  Everton\n",
       "8                   Fulham\n",
       "9             Ipswich Town\n",
       "10          Leicester City\n",
       "11               Liverpool\n",
       "12         Manchester City\n",
       "13       Manchester United\n",
       "14        Newcastle United\n",
       "15       Nottingham Forest\n",
       "16             Southampton\n",
       "17       Tottenham Hotspur\n",
       "18         West Ham United\n",
       "19           Wolverhampton"
      ]
     },
     "execution_count": 6,
     "metadata": {},
     "output_type": "execute_result"
    }
   ],
   "source": [
    "team_names = get_teams_in_league(matches)\n",
    "# team_names = ['Liverpool', 'Manchester City']\n",
    "pd.DataFrame(team_names)"
   ]
  },
  {
   "cell_type": "code",
   "execution_count": 7,
   "id": "5d0b3b03-d572-417b-8c54-f3aa4fbacbc1",
   "metadata": {
    "scrolled": true
   },
   "outputs": [
    {
     "name": "stderr",
     "output_type": "stream",
     "text": [
      "Processing `Arsenal` matches: 100%|████████████████████████████████████████████████████| 31/31 [00:03<00:00,  9.22it/s]\n"
     ]
    },
    {
     "name": "stdout",
     "output_type": "stream",
     "text": [
      "Added data for `Arsenal` with `31` rows\n"
     ]
    },
    {
     "name": "stderr",
     "output_type": "stream",
     "text": [
      "Processing `Aston Villa` matches: 100%|████████████████████████████████████████████████| 31/31 [00:03<00:00,  9.16it/s]\n"
     ]
    },
    {
     "name": "stdout",
     "output_type": "stream",
     "text": [
      "Added data for `Aston Villa` with `31` rows\n"
     ]
    },
    {
     "name": "stderr",
     "output_type": "stream",
     "text": [
      "Processing `Bournemouth` matches: 100%|████████████████████████████████████████████████| 31/31 [00:03<00:00,  9.42it/s]\n"
     ]
    },
    {
     "name": "stdout",
     "output_type": "stream",
     "text": [
      "Added data for `Bournemouth` with `31` rows\n"
     ]
    },
    {
     "name": "stderr",
     "output_type": "stream",
     "text": [
      "Processing `Brentford` matches: 100%|██████████████████████████████████████████████████| 30/30 [00:03<00:00,  8.71it/s]\n"
     ]
    },
    {
     "name": "stdout",
     "output_type": "stream",
     "text": [
      "Added data for `Brentford` with `30` rows\n"
     ]
    },
    {
     "name": "stderr",
     "output_type": "stream",
     "text": [
      "Processing `Brighton & Hove Albion` matches: 100%|█████████████████████████████████████| 31/31 [00:03<00:00,  8.95it/s]\n"
     ]
    },
    {
     "name": "stdout",
     "output_type": "stream",
     "text": [
      "Added data for `Brighton & Hove Albion` with `31` rows\n"
     ]
    },
    {
     "name": "stderr",
     "output_type": "stream",
     "text": [
      "Processing `Chelsea` matches: 100%|████████████████████████████████████████████████████| 30/30 [00:05<00:00,  5.81it/s]\n"
     ]
    },
    {
     "name": "stdout",
     "output_type": "stream",
     "text": [
      "Added data for `Chelsea` with `30` rows\n"
     ]
    },
    {
     "name": "stderr",
     "output_type": "stream",
     "text": [
      "Processing `Crystal Palace` matches: 100%|█████████████████████████████████████████████| 30/30 [00:05<00:00,  5.83it/s]\n"
     ]
    },
    {
     "name": "stdout",
     "output_type": "stream",
     "text": [
      "Added data for `Crystal Palace` with `30` rows\n"
     ]
    },
    {
     "name": "stderr",
     "output_type": "stream",
     "text": [
      "Processing `Everton` matches: 100%|████████████████████████████████████████████████████| 32/32 [00:04<00:00,  7.80it/s]\n"
     ]
    },
    {
     "name": "stdout",
     "output_type": "stream",
     "text": [
      "Added data for `Everton` with `31` rows\n"
     ]
    },
    {
     "name": "stderr",
     "output_type": "stream",
     "text": [
      "Processing `Fulham` matches: 100%|█████████████████████████████████████████████████████| 30/30 [00:04<00:00,  7.36it/s]\n"
     ]
    },
    {
     "name": "stdout",
     "output_type": "stream",
     "text": [
      "Added data for `Fulham` with `30` rows\n"
     ]
    },
    {
     "name": "stderr",
     "output_type": "stream",
     "text": [
      "Processing `Ipswich Town` matches: 100%|███████████████████████████████████████████████| 31/31 [00:04<00:00,  7.71it/s]\n"
     ]
    },
    {
     "name": "stdout",
     "output_type": "stream",
     "text": [
      "Added data for `Ipswich Town` with `31` rows\n"
     ]
    },
    {
     "name": "stderr",
     "output_type": "stream",
     "text": [
      "Processing `Leicester City` matches: 100%|█████████████████████████████████████████████| 30/30 [00:05<00:00,  5.75it/s]\n"
     ]
    },
    {
     "name": "stdout",
     "output_type": "stream",
     "text": [
      "Added data for `Leicester City` with `30` rows\n"
     ]
    },
    {
     "name": "stderr",
     "output_type": "stream",
     "text": [
      "Processing `Liverpool` matches: 100%|██████████████████████████████████████████████████| 31/31 [00:04<00:00,  7.38it/s]\n"
     ]
    },
    {
     "name": "stdout",
     "output_type": "stream",
     "text": [
      "Added data for `Liverpool` with `30` rows\n"
     ]
    },
    {
     "name": "stderr",
     "output_type": "stream",
     "text": [
      "Processing `Manchester City` matches: 100%|████████████████████████████████████████████| 30/30 [00:04<00:00,  6.75it/s]\n"
     ]
    },
    {
     "name": "stdout",
     "output_type": "stream",
     "text": [
      "Added data for `Manchester City` with `30` rows\n"
     ]
    },
    {
     "name": "stderr",
     "output_type": "stream",
     "text": [
      "Processing `Manchester United` matches: 100%|██████████████████████████████████████████| 30/30 [00:04<00:00,  7.47it/s]\n"
     ]
    },
    {
     "name": "stdout",
     "output_type": "stream",
     "text": [
      "Added data for `Manchester United` with `30` rows\n"
     ]
    },
    {
     "name": "stderr",
     "output_type": "stream",
     "text": [
      "Processing `Newcastle United` matches: 100%|███████████████████████████████████████████| 29/29 [00:03<00:00,  8.12it/s]\n"
     ]
    },
    {
     "name": "stdout",
     "output_type": "stream",
     "text": [
      "Added data for `Newcastle United` with `29` rows\n"
     ]
    },
    {
     "name": "stderr",
     "output_type": "stream",
     "text": [
      "Processing `Nottingham Forest` matches: 100%|██████████████████████████████████████████| 31/31 [00:04<00:00,  7.37it/s]\n"
     ]
    },
    {
     "name": "stdout",
     "output_type": "stream",
     "text": [
      "Added data for `Nottingham Forest` with `31` rows\n"
     ]
    },
    {
     "name": "stderr",
     "output_type": "stream",
     "text": [
      "Processing `Southampton` matches: 100%|████████████████████████████████████████████████| 30/30 [00:03<00:00,  8.71it/s]\n"
     ]
    },
    {
     "name": "stdout",
     "output_type": "stream",
     "text": [
      "Added data for `Southampton` with `30` rows\n"
     ]
    },
    {
     "name": "stderr",
     "output_type": "stream",
     "text": [
      "Processing `Tottenham Hotspur` matches: 100%|██████████████████████████████████████████| 30/30 [00:03<00:00,  9.70it/s]\n"
     ]
    },
    {
     "name": "stdout",
     "output_type": "stream",
     "text": [
      "Added data for `Tottenham Hotspur` with `30` rows\n"
     ]
    },
    {
     "name": "stderr",
     "output_type": "stream",
     "text": [
      "Processing `West Ham United` matches: 100%|████████████████████████████████████████████| 31/31 [00:03<00:00,  9.46it/s]\n"
     ]
    },
    {
     "name": "stdout",
     "output_type": "stream",
     "text": [
      "Added data for `West Ham United` with `31` rows\n"
     ]
    },
    {
     "name": "stderr",
     "output_type": "stream",
     "text": [
      "Processing `Wolverhampton` matches: 100%|██████████████████████████████████████████████| 31/31 [00:03<00:00,  9.67it/s]"
     ]
    },
    {
     "name": "stdout",
     "output_type": "stream",
     "text": [
      "Added data for `Wolverhampton` with `31` rows\n"
     ]
    },
    {
     "name": "stderr",
     "output_type": "stream",
     "text": [
      "\n"
     ]
    }
   ],
   "source": [
    "team_data = collect_teams_data(matches, team_names, COLUMNS)"
   ]
  },
  {
   "cell_type": "code",
   "execution_count": 8,
   "id": "74d66bad-9837-4ac7-9b0c-f2be42d419cb",
   "metadata": {},
   "outputs": [
    {
     "data": {
      "text/html": [
       "<div>\n",
       "<style scoped>\n",
       "    .dataframe tbody tr th:only-of-type {\n",
       "        vertical-align: middle;\n",
       "    }\n",
       "\n",
       "    .dataframe tbody tr th {\n",
       "        vertical-align: top;\n",
       "    }\n",
       "\n",
       "    .dataframe thead th {\n",
       "        text-align: right;\n",
       "    }\n",
       "</style>\n",
       "<table border=\"1\" class=\"dataframe\">\n",
       "  <thead>\n",
       "    <tr style=\"text-align: right;\">\n",
       "      <th></th>\n",
       "      <th>W/L</th>\n",
       "      <th>T/X</th>\n",
       "      <th>Total of W</th>\n",
       "      <th>Home/Away</th>\n",
       "      <th>Correct score</th>\n",
       "      <th>HT</th>\n",
       "      <th>Total Goal O/E</th>\n",
       "      <th>Score O/E</th>\n",
       "      <th>Concede O/E</th>\n",
       "      <th>BTTS</th>\n",
       "      <th>Corner</th>\n",
       "      <th>Card</th>\n",
       "      <th>Corner HT</th>\n",
       "      <th>Card HT</th>\n",
       "      <th>ASIAN</th>\n",
       "      <th>Handicap Value</th>\n",
       "      <th>Date</th>\n",
       "    </tr>\n",
       "  </thead>\n",
       "  <tbody>\n",
       "    <tr>\n",
       "      <th>0</th>\n",
       "      <td>W</td>\n",
       "      <td>X</td>\n",
       "      <td>1</td>\n",
       "      <td>H</td>\n",
       "      <td>1-0</td>\n",
       "      <td>0-0</td>\n",
       "      <td>O</td>\n",
       "      <td>O</td>\n",
       "      <td>EN</td>\n",
       "      <td>N</td>\n",
       "      <td>11-5</td>\n",
       "      <td>2-2</td>\n",
       "      <td>5-2</td>\n",
       "      <td>0-2</td>\n",
       "      <td>None</td>\n",
       "      <td>None</td>\n",
       "      <td>02-04-2025</td>\n",
       "    </tr>\n",
       "    <tr>\n",
       "      <th>1</th>\n",
       "      <td>W</td>\n",
       "      <td>T</td>\n",
       "      <td>4</td>\n",
       "      <td>H</td>\n",
       "      <td>3-1</td>\n",
       "      <td>0-1</td>\n",
       "      <td>E</td>\n",
       "      <td>O</td>\n",
       "      <td>O</td>\n",
       "      <td>Y</td>\n",
       "      <td>6-4</td>\n",
       "      <td>2-1</td>\n",
       "      <td>2-4</td>\n",
       "      <td>2-0</td>\n",
       "      <td>None</td>\n",
       "      <td>None</td>\n",
       "      <td>08-03-2025</td>\n",
       "    </tr>\n",
       "    <tr>\n",
       "      <th>2</th>\n",
       "      <td>W</td>\n",
       "      <td>X</td>\n",
       "      <td>2</td>\n",
       "      <td>H</td>\n",
       "      <td>2-0</td>\n",
       "      <td>1-0</td>\n",
       "      <td>E</td>\n",
       "      <td>E</td>\n",
       "      <td>EN</td>\n",
       "      <td>N</td>\n",
       "      <td>4-2</td>\n",
       "      <td>0-1</td>\n",
       "      <td>0-0</td>\n",
       "      <td>0-0</td>\n",
       "      <td>None</td>\n",
       "      <td>None</td>\n",
       "      <td>26-02-2025</td>\n",
       "    </tr>\n",
       "    <tr>\n",
       "      <th>3</th>\n",
       "      <td>W</td>\n",
       "      <td>X</td>\n",
       "      <td>2</td>\n",
       "      <td>A</td>\n",
       "      <td>2-0</td>\n",
       "      <td>2-0</td>\n",
       "      <td>E</td>\n",
       "      <td>E</td>\n",
       "      <td>EN</td>\n",
       "      <td>N</td>\n",
       "      <td>5-7</td>\n",
       "      <td>0-0</td>\n",
       "      <td>2-4</td>\n",
       "      <td>0-0</td>\n",
       "      <td>None</td>\n",
       "      <td>None</td>\n",
       "      <td>23-02-2025</td>\n",
       "    </tr>\n",
       "    <tr>\n",
       "      <th>4</th>\n",
       "      <td>D</td>\n",
       "      <td>T</td>\n",
       "      <td>4</td>\n",
       "      <td>A</td>\n",
       "      <td>2-2</td>\n",
       "      <td>1-2</td>\n",
       "      <td>E</td>\n",
       "      <td>E</td>\n",
       "      <td>E</td>\n",
       "      <td>Y</td>\n",
       "      <td>8-6</td>\n",
       "      <td>0-1</td>\n",
       "      <td>2-2</td>\n",
       "      <td>0-1</td>\n",
       "      <td>None</td>\n",
       "      <td>None</td>\n",
       "      <td>19-02-2025</td>\n",
       "    </tr>\n",
       "    <tr>\n",
       "      <th>5</th>\n",
       "      <td>W</td>\n",
       "      <td>T</td>\n",
       "      <td>3</td>\n",
       "      <td>H</td>\n",
       "      <td>2-1</td>\n",
       "      <td>2-0</td>\n",
       "      <td>O</td>\n",
       "      <td>E</td>\n",
       "      <td>O</td>\n",
       "      <td>Y</td>\n",
       "      <td>4-3</td>\n",
       "      <td>2-2</td>\n",
       "      <td>4-1</td>\n",
       "      <td>1-2</td>\n",
       "      <td>None</td>\n",
       "      <td>None</td>\n",
       "      <td>16-02-2025</td>\n",
       "    </tr>\n",
       "    <tr>\n",
       "      <th>6</th>\n",
       "      <td>D</td>\n",
       "      <td>T</td>\n",
       "      <td>4</td>\n",
       "      <td>A</td>\n",
       "      <td>2-2</td>\n",
       "      <td>1-1</td>\n",
       "      <td>E</td>\n",
       "      <td>E</td>\n",
       "      <td>E</td>\n",
       "      <td>Y</td>\n",
       "      <td>3-2</td>\n",
       "      <td>5-5</td>\n",
       "      <td>1-1</td>\n",
       "      <td>2-3</td>\n",
       "      <td>None</td>\n",
       "      <td>None</td>\n",
       "      <td>12-02-2025</td>\n",
       "    </tr>\n",
       "    <tr>\n",
       "      <th>7</th>\n",
       "      <td>W</td>\n",
       "      <td>X</td>\n",
       "      <td>2</td>\n",
       "      <td>A</td>\n",
       "      <td>2-0</td>\n",
       "      <td>1-0</td>\n",
       "      <td>E</td>\n",
       "      <td>E</td>\n",
       "      <td>EN</td>\n",
       "      <td>N</td>\n",
       "      <td>3-3</td>\n",
       "      <td>3-2</td>\n",
       "      <td>1-2</td>\n",
       "      <td>0-0</td>\n",
       "      <td>None</td>\n",
       "      <td>None</td>\n",
       "      <td>01-02-2025</td>\n",
       "    </tr>\n",
       "    <tr>\n",
       "      <th>8</th>\n",
       "      <td>W</td>\n",
       "      <td>T</td>\n",
       "      <td>5</td>\n",
       "      <td>H</td>\n",
       "      <td>4-1</td>\n",
       "      <td>3-0</td>\n",
       "      <td>O</td>\n",
       "      <td>E</td>\n",
       "      <td>O</td>\n",
       "      <td>Y</td>\n",
       "      <td>3-4</td>\n",
       "      <td>0-2</td>\n",
       "      <td>0-1</td>\n",
       "      <td>0-0</td>\n",
       "      <td>None</td>\n",
       "      <td>None</td>\n",
       "      <td>25-01-2025</td>\n",
       "    </tr>\n",
       "    <tr>\n",
       "      <th>9</th>\n",
       "      <td>W</td>\n",
       "      <td>X</td>\n",
       "      <td>2</td>\n",
       "      <td>A</td>\n",
       "      <td>2-0</td>\n",
       "      <td>0-0</td>\n",
       "      <td>E</td>\n",
       "      <td>E</td>\n",
       "      <td>EN</td>\n",
       "      <td>N</td>\n",
       "      <td>15-2</td>\n",
       "      <td>3-2</td>\n",
       "      <td>9-0</td>\n",
       "      <td>2-0</td>\n",
       "      <td>None</td>\n",
       "      <td>None</td>\n",
       "      <td>18-01-2025</td>\n",
       "    </tr>\n",
       "    <tr>\n",
       "      <th>10</th>\n",
       "      <td>D</td>\n",
       "      <td>X</td>\n",
       "      <td>2</td>\n",
       "      <td>A</td>\n",
       "      <td>1-1</td>\n",
       "      <td>0-1</td>\n",
       "      <td>E</td>\n",
       "      <td>O</td>\n",
       "      <td>O</td>\n",
       "      <td>Y</td>\n",
       "      <td>9-0</td>\n",
       "      <td>1-2</td>\n",
       "      <td>2-0</td>\n",
       "      <td>0-1</td>\n",
       "      <td>None</td>\n",
       "      <td>None</td>\n",
       "      <td>14-01-2025</td>\n",
       "    </tr>\n",
       "    <tr>\n",
       "      <th>11</th>\n",
       "      <td>D</td>\n",
       "      <td>T</td>\n",
       "      <td>4</td>\n",
       "      <td>H</td>\n",
       "      <td>2-2</td>\n",
       "      <td>0-0</td>\n",
       "      <td>E</td>\n",
       "      <td>E</td>\n",
       "      <td>E</td>\n",
       "      <td>Y</td>\n",
       "      <td>6-9</td>\n",
       "      <td>2-4</td>\n",
       "      <td>2-2</td>\n",
       "      <td>0-1</td>\n",
       "      <td>None</td>\n",
       "      <td>None</td>\n",
       "      <td>05-01-2025</td>\n",
       "    </tr>\n",
       "    <tr>\n",
       "      <th>12</th>\n",
       "      <td>W</td>\n",
       "      <td>T</td>\n",
       "      <td>5</td>\n",
       "      <td>A</td>\n",
       "      <td>5-0</td>\n",
       "      <td>3-0</td>\n",
       "      <td>O</td>\n",
       "      <td>O</td>\n",
       "      <td>EN</td>\n",
       "      <td>N</td>\n",
       "      <td>6-2</td>\n",
       "      <td>0-0</td>\n",
       "      <td>4-1</td>\n",
       "      <td>0-0</td>\n",
       "      <td>None</td>\n",
       "      <td>None</td>\n",
       "      <td>29-12-2024</td>\n",
       "    </tr>\n",
       "    <tr>\n",
       "      <th>13</th>\n",
       "      <td>W</td>\n",
       "      <td>T</td>\n",
       "      <td>4</td>\n",
       "      <td>H</td>\n",
       "      <td>3-1</td>\n",
       "      <td>1-1</td>\n",
       "      <td>E</td>\n",
       "      <td>O</td>\n",
       "      <td>O</td>\n",
       "      <td>Y</td>\n",
       "      <td>14-1</td>\n",
       "      <td>3-2</td>\n",
       "      <td>8-1</td>\n",
       "      <td>1-1</td>\n",
       "      <td>None</td>\n",
       "      <td>None</td>\n",
       "      <td>26-12-2024</td>\n",
       "    </tr>\n",
       "    <tr>\n",
       "      <th>14</th>\n",
       "      <td>W</td>\n",
       "      <td>T</td>\n",
       "      <td>9</td>\n",
       "      <td>A</td>\n",
       "      <td>6-3</td>\n",
       "      <td>3-1</td>\n",
       "      <td>O</td>\n",
       "      <td>E</td>\n",
       "      <td>O</td>\n",
       "      <td>Y</td>\n",
       "      <td>5-7</td>\n",
       "      <td>2-1</td>\n",
       "      <td>2-1</td>\n",
       "      <td>1-0</td>\n",
       "      <td>None</td>\n",
       "      <td>None</td>\n",
       "      <td>22-12-2024</td>\n",
       "    </tr>\n",
       "    <tr>\n",
       "      <th>15</th>\n",
       "      <td>D</td>\n",
       "      <td>T</td>\n",
       "      <td>4</td>\n",
       "      <td>H</td>\n",
       "      <td>2-2</td>\n",
       "      <td>0-1</td>\n",
       "      <td>E</td>\n",
       "      <td>E</td>\n",
       "      <td>E</td>\n",
       "      <td>Y</td>\n",
       "      <td>5-4</td>\n",
       "      <td>4-4</td>\n",
       "      <td>2-2</td>\n",
       "      <td>2-3</td>\n",
       "      <td>None</td>\n",
       "      <td>None</td>\n",
       "      <td>14-12-2024</td>\n",
       "    </tr>\n",
       "    <tr>\n",
       "      <th>16</th>\n",
       "      <td>D</td>\n",
       "      <td>T</td>\n",
       "      <td>6</td>\n",
       "      <td>A</td>\n",
       "      <td>3-3</td>\n",
       "      <td>0-1</td>\n",
       "      <td>E</td>\n",
       "      <td>O</td>\n",
       "      <td>O</td>\n",
       "      <td>Y</td>\n",
       "      <td>6-5</td>\n",
       "      <td>5-2</td>\n",
       "      <td>4-5</td>\n",
       "      <td>3-0</td>\n",
       "      <td>None</td>\n",
       "      <td>None</td>\n",
       "      <td>04-12-2024</td>\n",
       "    </tr>\n",
       "    <tr>\n",
       "      <th>17</th>\n",
       "      <td>W</td>\n",
       "      <td>X</td>\n",
       "      <td>2</td>\n",
       "      <td>H</td>\n",
       "      <td>2-0</td>\n",
       "      <td>1-0</td>\n",
       "      <td>E</td>\n",
       "      <td>E</td>\n",
       "      <td>EN</td>\n",
       "      <td>N</td>\n",
       "      <td>7-4</td>\n",
       "      <td>1-3</td>\n",
       "      <td>5-0</td>\n",
       "      <td>1-3</td>\n",
       "      <td>None</td>\n",
       "      <td>None</td>\n",
       "      <td>01-12-2024</td>\n",
       "    </tr>\n",
       "    <tr>\n",
       "      <th>18</th>\n",
       "      <td>W</td>\n",
       "      <td>T</td>\n",
       "      <td>5</td>\n",
       "      <td>A</td>\n",
       "      <td>3-2</td>\n",
       "      <td>1-1</td>\n",
       "      <td>O</td>\n",
       "      <td>O</td>\n",
       "      <td>E</td>\n",
       "      <td>Y</td>\n",
       "      <td>10-3</td>\n",
       "      <td>4-3</td>\n",
       "      <td>2-3</td>\n",
       "      <td>2-1</td>\n",
       "      <td>None</td>\n",
       "      <td>None</td>\n",
       "      <td>24-11-2024</td>\n",
       "    </tr>\n",
       "    <tr>\n",
       "      <th>19</th>\n",
       "      <td>W</td>\n",
       "      <td>X</td>\n",
       "      <td>2</td>\n",
       "      <td>H</td>\n",
       "      <td>2-0</td>\n",
       "      <td>1-0</td>\n",
       "      <td>E</td>\n",
       "      <td>E</td>\n",
       "      <td>EN</td>\n",
       "      <td>N</td>\n",
       "      <td>2-9</td>\n",
       "      <td>0-3</td>\n",
       "      <td>2-4</td>\n",
       "      <td>0-2</td>\n",
       "      <td>None</td>\n",
       "      <td>None</td>\n",
       "      <td>09-11-2024</td>\n",
       "    </tr>\n",
       "    <tr>\n",
       "      <th>20</th>\n",
       "      <td>W</td>\n",
       "      <td>T</td>\n",
       "      <td>3</td>\n",
       "      <td>H</td>\n",
       "      <td>2-1</td>\n",
       "      <td>0-1</td>\n",
       "      <td>O</td>\n",
       "      <td>E</td>\n",
       "      <td>O</td>\n",
       "      <td>Y</td>\n",
       "      <td>9-7</td>\n",
       "      <td>1-2</td>\n",
       "      <td>6-3</td>\n",
       "      <td>1-0</td>\n",
       "      <td>None</td>\n",
       "      <td>None</td>\n",
       "      <td>02-11-2024</td>\n",
       "    </tr>\n",
       "    <tr>\n",
       "      <th>21</th>\n",
       "      <td>D</td>\n",
       "      <td>T</td>\n",
       "      <td>4</td>\n",
       "      <td>A</td>\n",
       "      <td>2-2</td>\n",
       "      <td>1-2</td>\n",
       "      <td>E</td>\n",
       "      <td>E</td>\n",
       "      <td>E</td>\n",
       "      <td>Y</td>\n",
       "      <td>3-1</td>\n",
       "      <td>2-2</td>\n",
       "      <td>1-0</td>\n",
       "      <td>1-0</td>\n",
       "      <td>None</td>\n",
       "      <td>None</td>\n",
       "      <td>27-10-2024</td>\n",
       "    </tr>\n",
       "    <tr>\n",
       "      <th>22</th>\n",
       "      <td>W</td>\n",
       "      <td>T</td>\n",
       "      <td>3</td>\n",
       "      <td>H</td>\n",
       "      <td>2-1</td>\n",
       "      <td>1-0</td>\n",
       "      <td>O</td>\n",
       "      <td>E</td>\n",
       "      <td>O</td>\n",
       "      <td>Y</td>\n",
       "      <td>1-5</td>\n",
       "      <td>4-3</td>\n",
       "      <td>1-3</td>\n",
       "      <td>1-2</td>\n",
       "      <td>None</td>\n",
       "      <td>None</td>\n",
       "      <td>20-10-2024</td>\n",
       "    </tr>\n",
       "    <tr>\n",
       "      <th>23</th>\n",
       "      <td>W</td>\n",
       "      <td>X</td>\n",
       "      <td>1</td>\n",
       "      <td>A</td>\n",
       "      <td>1-0</td>\n",
       "      <td>1-0</td>\n",
       "      <td>O</td>\n",
       "      <td>O</td>\n",
       "      <td>EN</td>\n",
       "      <td>N</td>\n",
       "      <td>8-3</td>\n",
       "      <td>2-4</td>\n",
       "      <td>7-2</td>\n",
       "      <td>2-0</td>\n",
       "      <td>None</td>\n",
       "      <td>None</td>\n",
       "      <td>05-10-2024</td>\n",
       "    </tr>\n",
       "    <tr>\n",
       "      <th>24</th>\n",
       "      <td>W</td>\n",
       "      <td>T</td>\n",
       "      <td>3</td>\n",
       "      <td>A</td>\n",
       "      <td>2-1</td>\n",
       "      <td>1-0</td>\n",
       "      <td>O</td>\n",
       "      <td>E</td>\n",
       "      <td>O</td>\n",
       "      <td>Y</td>\n",
       "      <td>10-2</td>\n",
       "      <td>3-2</td>\n",
       "      <td>6-0</td>\n",
       "      <td>2-1</td>\n",
       "      <td>None</td>\n",
       "      <td>None</td>\n",
       "      <td>28-09-2024</td>\n",
       "    </tr>\n",
       "    <tr>\n",
       "      <th>25</th>\n",
       "      <td>W</td>\n",
       "      <td>T</td>\n",
       "      <td>3</td>\n",
       "      <td>H</td>\n",
       "      <td>3-0</td>\n",
       "      <td>3-0</td>\n",
       "      <td>O</td>\n",
       "      <td>O</td>\n",
       "      <td>EN</td>\n",
       "      <td>N</td>\n",
       "      <td>3-9</td>\n",
       "      <td>1-4</td>\n",
       "      <td>2-3</td>\n",
       "      <td>0-3</td>\n",
       "      <td>None</td>\n",
       "      <td>None</td>\n",
       "      <td>21-09-2024</td>\n",
       "    </tr>\n",
       "    <tr>\n",
       "      <th>26</th>\n",
       "      <td>L</td>\n",
       "      <td>X</td>\n",
       "      <td>1</td>\n",
       "      <td>H</td>\n",
       "      <td>0-1</td>\n",
       "      <td>0-0</td>\n",
       "      <td>O</td>\n",
       "      <td>EN</td>\n",
       "      <td>O</td>\n",
       "      <td>N</td>\n",
       "      <td>7-2</td>\n",
       "      <td>4-4</td>\n",
       "      <td>4-2</td>\n",
       "      <td>0-2</td>\n",
       "      <td>None</td>\n",
       "      <td>None</td>\n",
       "      <td>14-09-2024</td>\n",
       "    </tr>\n",
       "    <tr>\n",
       "      <th>27</th>\n",
       "      <td>W</td>\n",
       "      <td>T</td>\n",
       "      <td>3</td>\n",
       "      <td>A</td>\n",
       "      <td>3-0</td>\n",
       "      <td>2-0</td>\n",
       "      <td>O</td>\n",
       "      <td>O</td>\n",
       "      <td>EN</td>\n",
       "      <td>N</td>\n",
       "      <td>2-5</td>\n",
       "      <td>1-4</td>\n",
       "      <td>1-2</td>\n",
       "      <td>0-3</td>\n",
       "      <td>None</td>\n",
       "      <td>None</td>\n",
       "      <td>01-09-2024</td>\n",
       "    </tr>\n",
       "    <tr>\n",
       "      <th>28</th>\n",
       "      <td>W</td>\n",
       "      <td>X</td>\n",
       "      <td>2</td>\n",
       "      <td>H</td>\n",
       "      <td>2-0</td>\n",
       "      <td>1-0</td>\n",
       "      <td>E</td>\n",
       "      <td>E</td>\n",
       "      <td>EN</td>\n",
       "      <td>N</td>\n",
       "      <td>9-4</td>\n",
       "      <td>2-3</td>\n",
       "      <td>4-2</td>\n",
       "      <td>2-2</td>\n",
       "      <td>None</td>\n",
       "      <td>None</td>\n",
       "      <td>25-08-2024</td>\n",
       "    </tr>\n",
       "    <tr>\n",
       "      <th>29</th>\n",
       "      <td>W</td>\n",
       "      <td>X</td>\n",
       "      <td>2</td>\n",
       "      <td>A</td>\n",
       "      <td>2-0</td>\n",
       "      <td>0-0</td>\n",
       "      <td>E</td>\n",
       "      <td>E</td>\n",
       "      <td>EN</td>\n",
       "      <td>N</td>\n",
       "      <td>10-2</td>\n",
       "      <td>1-3</td>\n",
       "      <td>6-1</td>\n",
       "      <td>0-3</td>\n",
       "      <td>None</td>\n",
       "      <td>None</td>\n",
       "      <td>17-08-2024</td>\n",
       "    </tr>\n",
       "  </tbody>\n",
       "</table>\n",
       "</div>"
      ],
      "text/plain": [
       "   W/L T/X  Total of W Home/Away Correct score   HT Total Goal O/E Score O/E  \\\n",
       "0    W   X           1         H           1-0  0-0              O         O   \n",
       "1    W   T           4         H           3-1  0-1              E         O   \n",
       "2    W   X           2         H           2-0  1-0              E         E   \n",
       "3    W   X           2         A           2-0  2-0              E         E   \n",
       "4    D   T           4         A           2-2  1-2              E         E   \n",
       "5    W   T           3         H           2-1  2-0              O         E   \n",
       "6    D   T           4         A           2-2  1-1              E         E   \n",
       "7    W   X           2         A           2-0  1-0              E         E   \n",
       "8    W   T           5         H           4-1  3-0              O         E   \n",
       "9    W   X           2         A           2-0  0-0              E         E   \n",
       "10   D   X           2         A           1-1  0-1              E         O   \n",
       "11   D   T           4         H           2-2  0-0              E         E   \n",
       "12   W   T           5         A           5-0  3-0              O         O   \n",
       "13   W   T           4         H           3-1  1-1              E         O   \n",
       "14   W   T           9         A           6-3  3-1              O         E   \n",
       "15   D   T           4         H           2-2  0-1              E         E   \n",
       "16   D   T           6         A           3-3  0-1              E         O   \n",
       "17   W   X           2         H           2-0  1-0              E         E   \n",
       "18   W   T           5         A           3-2  1-1              O         O   \n",
       "19   W   X           2         H           2-0  1-0              E         E   \n",
       "20   W   T           3         H           2-1  0-1              O         E   \n",
       "21   D   T           4         A           2-2  1-2              E         E   \n",
       "22   W   T           3         H           2-1  1-0              O         E   \n",
       "23   W   X           1         A           1-0  1-0              O         O   \n",
       "24   W   T           3         A           2-1  1-0              O         E   \n",
       "25   W   T           3         H           3-0  3-0              O         O   \n",
       "26   L   X           1         H           0-1  0-0              O        EN   \n",
       "27   W   T           3         A           3-0  2-0              O         O   \n",
       "28   W   X           2         H           2-0  1-0              E         E   \n",
       "29   W   X           2         A           2-0  0-0              E         E   \n",
       "\n",
       "   Concede O/E BTTS Corner Card Corner HT Card HT ASIAN Handicap Value  \\\n",
       "0           EN    N   11-5  2-2       5-2     0-2  None           None   \n",
       "1            O    Y    6-4  2-1       2-4     2-0  None           None   \n",
       "2           EN    N    4-2  0-1       0-0     0-0  None           None   \n",
       "3           EN    N    5-7  0-0       2-4     0-0  None           None   \n",
       "4            E    Y    8-6  0-1       2-2     0-1  None           None   \n",
       "5            O    Y    4-3  2-2       4-1     1-2  None           None   \n",
       "6            E    Y    3-2  5-5       1-1     2-3  None           None   \n",
       "7           EN    N    3-3  3-2       1-2     0-0  None           None   \n",
       "8            O    Y    3-4  0-2       0-1     0-0  None           None   \n",
       "9           EN    N   15-2  3-2       9-0     2-0  None           None   \n",
       "10           O    Y    9-0  1-2       2-0     0-1  None           None   \n",
       "11           E    Y    6-9  2-4       2-2     0-1  None           None   \n",
       "12          EN    N    6-2  0-0       4-1     0-0  None           None   \n",
       "13           O    Y   14-1  3-2       8-1     1-1  None           None   \n",
       "14           O    Y    5-7  2-1       2-1     1-0  None           None   \n",
       "15           E    Y    5-4  4-4       2-2     2-3  None           None   \n",
       "16           O    Y    6-5  5-2       4-5     3-0  None           None   \n",
       "17          EN    N    7-4  1-3       5-0     1-3  None           None   \n",
       "18           E    Y   10-3  4-3       2-3     2-1  None           None   \n",
       "19          EN    N    2-9  0-3       2-4     0-2  None           None   \n",
       "20           O    Y    9-7  1-2       6-3     1-0  None           None   \n",
       "21           E    Y    3-1  2-2       1-0     1-0  None           None   \n",
       "22           O    Y    1-5  4-3       1-3     1-2  None           None   \n",
       "23          EN    N    8-3  2-4       7-2     2-0  None           None   \n",
       "24           O    Y   10-2  3-2       6-0     2-1  None           None   \n",
       "25          EN    N    3-9  1-4       2-3     0-3  None           None   \n",
       "26           O    N    7-2  4-4       4-2     0-2  None           None   \n",
       "27          EN    N    2-5  1-4       1-2     0-3  None           None   \n",
       "28          EN    N    9-4  2-3       4-2     2-2  None           None   \n",
       "29          EN    N   10-2  1-3       6-1     0-3  None           None   \n",
       "\n",
       "          Date  \n",
       "0   02-04-2025  \n",
       "1   08-03-2025  \n",
       "2   26-02-2025  \n",
       "3   23-02-2025  \n",
       "4   19-02-2025  \n",
       "5   16-02-2025  \n",
       "6   12-02-2025  \n",
       "7   01-02-2025  \n",
       "8   25-01-2025  \n",
       "9   18-01-2025  \n",
       "10  14-01-2025  \n",
       "11  05-01-2025  \n",
       "12  29-12-2024  \n",
       "13  26-12-2024  \n",
       "14  22-12-2024  \n",
       "15  14-12-2024  \n",
       "16  04-12-2024  \n",
       "17  01-12-2024  \n",
       "18  24-11-2024  \n",
       "19  09-11-2024  \n",
       "20  02-11-2024  \n",
       "21  27-10-2024  \n",
       "22  20-10-2024  \n",
       "23  05-10-2024  \n",
       "24  28-09-2024  \n",
       "25  21-09-2024  \n",
       "26  14-09-2024  \n",
       "27  01-09-2024  \n",
       "28  25-08-2024  \n",
       "29  17-08-2024  "
      ]
     },
     "execution_count": 8,
     "metadata": {},
     "output_type": "execute_result"
    }
   ],
   "source": [
    "team_data['Liverpool']"
   ]
  },
  {
   "cell_type": "markdown",
   "id": "9c019c9e-9ba4-40d6-9569-6704270fda3f",
   "metadata": {},
   "source": [
    "# Save File"
   ]
  },
  {
   "cell_type": "code",
   "execution_count": 9,
   "id": "54639227-76dc-4749-839c-e751ebd505b4",
   "metadata": {
    "scrolled": true
   },
   "outputs": [
    {
     "name": "stdout",
     "output_type": "stream",
     "text": [
      "Excel file saved as `Premier_League_Analysis.xlsx`\n"
     ]
    }
   ],
   "source": [
    "save_excel(team_data, OUTPUT_FILE)"
   ]
  }
 ],
 "metadata": {
  "kernelspec": {
   "display_name": ".venv_sofascore-scraper",
   "language": "python",
   "name": ".venv_sofascore-scraper"
  },
  "language_info": {
   "codemirror_mode": {
    "name": "ipython",
    "version": 3
   },
   "file_extension": ".py",
   "mimetype": "text/x-python",
   "name": "python",
   "nbconvert_exporter": "python",
   "pygments_lexer": "ipython3",
   "version": "3.12.8"
  }
 },
 "nbformat": 4,
 "nbformat_minor": 5
}
