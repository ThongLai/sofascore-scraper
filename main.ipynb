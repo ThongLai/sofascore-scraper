{
 "cells": [
  {
   "cell_type": "code",
   "execution_count": 1,
   "id": "8286515d-677b-4236-b189-92fb12f445d0",
   "metadata": {},
   "outputs": [
    {
     "name": "stdout",
     "output_type": "stream",
     "text": [
      "Note: you may need to restart the kernel to use updated packages.\n",
      "Note: you may need to restart the kernel to use updated packages.\n"
     ]
    }
   ],
   "source": [
    "%pip install --upgrade pip -q\n",
    "%pip install -r requirements.txt -q"
   ]
  },
  {
   "cell_type": "code",
   "execution_count": 2,
   "id": "81bb6732-0698-4906-adbb-302311833363",
   "metadata": {},
   "outputs": [
    {
     "name": "stdout",
     "output_type": "stream",
     "text": [
      "Python Version: `3.12.8 (tags/v3.12.8:2dc476b, Dec  3 2024, 19:30:04) [MSC v.1942 64 bit (AMD64)]`\n",
      "Base Python location: `C:\\Users\\LMT\\AppData\\Local\\Programs\\Python\\Python312`\n",
      "Current Environment location: `.venv_sofascore-scraper`\n",
      "\n"
     ]
    }
   ],
   "source": [
    "import sys\n",
    "import os\n",
    "# \n",
    "# Check Python version\n",
    "print(f\"Python Version: `{sys.version}`\")  # Detailed version info\n",
    "print(f\"Base Python location: `{sys.base_prefix}`\")\n",
    "print(f\"Current Environment location: `{os.path.basename(sys.prefix)}`\", end='\\n\\n')"
   ]
  },
  {
   "cell_type": "code",
   "execution_count": 3,
   "id": "9415a57e-36c9-487b-a8e1-3d138510456f",
   "metadata": {},
   "outputs": [],
   "source": [
    "# Output file name\n",
    "OUTPUT_FILE = \"sofascore.xlsx\"\n",
    "\n",
    "# ------------------------------------------------------------------------------\n",
    "# Configuration for Season, League, and Team Filtering\n",
    "#\n",
    "# SEASON:\n",
    "#   - Specify one or more seasons as a list.\n",
    "#   - Examples: ['24/25', '23/24'] or ['2025']\n",
    "#   - Use the season format required by the league. For valid season formats, you\n",
    "#     can use: sfc.Sofascore.get_valid_seasons()\n",
    "#   - Special options:\n",
    "#       ['ALL'] or []    -> Include all available seasons.\n",
    "#       ['LATEST']       -> Include only the most recent season.\n",
    "SEASON = ['ALL']\n",
    "\n",
    "# LEAGUE:\n",
    "#   - Specify one or more league names as a list.\n",
    "#   - Examples: ['Champions League', 'EPL']\n",
    "#   - Make sure you use the correct league name format.\n",
    "#   - Use ['ALL'] or [] -> target all leagues.\n",
    "LEAGUE = ['ALL']\n",
    "\n",
    "# TEAM_IN_LEAGUE:\n",
    "#   - (Optional) Specify a particular team or teams within the league.\n",
    "#   - Example: ['EPL'] to filter for teams in the English Premier League.\n",
    "TEAM_IN_LEAGUE = ['EPL']\n",
    "# ------------------------------------------------------------------------------\n",
    "\n",
    "# List of column names\n",
    "COLUMNS = [\n",
    "    'W/L',\n",
    "    'T/X',\n",
    "    'Total of W',\n",
    "    'Home/Away',\n",
    "    'Correct score',\n",
    "    'HT',\n",
    "    'Total Goal O/E',\n",
    "    'Score O/E',\n",
    "    'Concede O/E',\n",
    "    'BTTS',\n",
    "    'Corner',\n",
    "    'Card',\n",
    "    'Corner HT',\n",
    "    'Card HT',\n",
    "    'ASIAN',\n",
    "    'Handicap Value',\n",
    "    'Date'\n",
    "]"
   ]
  },
  {
   "cell_type": "markdown",
   "id": "f335fa9e-c5e2-4766-9c9d-193b0af1c9ad",
   "metadata": {},
   "source": [
    "# Import tools and library"
   ]
  },
  {
   "cell_type": "markdown",
   "id": "25efece0-22fd-437a-b0ef-590b6c1c5ef6",
   "metadata": {},
   "source": [
    "- [ScraperFC's Sofascore API documentation](https://scraperfc.readthedocs.io/en/latest/sofascore.html)\n",
    "- [Sofascore Source](https://www.sofascore.com) "
   ]
  },
  {
   "cell_type": "code",
   "execution_count": 4,
   "id": "efa46767-ac96-475a-bee6-2962b58aa6a2",
   "metadata": {},
   "outputs": [],
   "source": [
    "import ScraperFC as sfc\n",
    "from sofascore_scraper_tools import get_league_matches, collect_teams_data, get_teams_in_league, save_excel\n",
    "import pandas as pd"
   ]
  },
  {
   "cell_type": "code",
   "execution_count": 5,
   "id": "1a7739e0-3c76-4fc9-9275-b28b206c2e3f",
   "metadata": {},
   "outputs": [
    {
     "name": "stdout",
     "output_type": "stream",
     "text": [
      "All leagues available: \n",
      "['Champions League', 'Europa League', 'Europa Conference League', 'EPL', 'La Liga', 'Bundesliga', 'Serie A', 'Ligue 1', 'Turkish Super Lig', 'Argentina Liga Profesional', 'Argentina Copa de la Liga Profesional', 'Liga 1 Peru', 'Copa Libertadores', 'MLS', 'USL Championship', 'USL1', 'USL2', 'Saudi Pro League', 'World Cup', 'Euros', 'Gold Cup', \"Women's World Cup\", 'EFL', 'FA', 'Emirates', 'League One']\n"
     ]
    }
   ],
   "source": [
    "# Add some more leagues\n",
    "sfc.sofascore.comps.update({\n",
    "    'EFL': 21,\n",
    "    'FA': 19,\n",
    "    'Emirates': 1295,\n",
    "    'League One': 24\n",
    "})\n",
    "ALL_LEAGUE = list(sfc.sofascore.comps.keys())\n",
    "print(f'All leagues available: \\n{ALL_LEAGUE}')"
   ]
  },
  {
   "cell_type": "markdown",
   "id": "32ddc0b2-b906-4fda-81db-850db678668d",
   "metadata": {},
   "source": [
    "# Get all matches in the league"
   ]
  },
  {
   "cell_type": "code",
   "execution_count": null,
   "id": "832d605f-38c1-4edb-b2e0-34d67d0cb5eb",
   "metadata": {},
   "outputs": [
    {
     "name": "stdout",
     "output_type": "stream",
     "text": [
      "Running\n"
     ]
    },
    {
     "name": "stderr",
     "output_type": "stream",
     "text": [
      "Processing Seasons for `Champions League`:  14%|█████▍                                  | 3/22 [00:03<00:22,  1.18s/it]"
     ]
    }
   ],
   "source": [
    "matches = get_league_matches(SEASON, LEAGUE)"
   ]
  },
  {
   "cell_type": "markdown",
   "id": "13d4509c-1446-4f14-b567-41607ceef81c",
   "metadata": {},
   "source": [
    "# Get teams in the league"
   ]
  },
  {
   "cell_type": "code",
   "execution_count": null,
   "id": "78a6752c-483b-4355-b166-5d464ec0567d",
   "metadata": {},
   "outputs": [],
   "source": [
    "team_names = get_teams_in_league(TEAM_IN_LEAGUE, SEASON)\n",
    "# team_names = ['Liverpool']\n",
    "pd.DataFrame(team_names)"
   ]
  },
  {
   "cell_type": "code",
   "execution_count": null,
   "id": "5d0b3b03-d572-417b-8c54-f3aa4fbacbc1",
   "metadata": {
    "scrolled": true
   },
   "outputs": [],
   "source": [
    "team_data = collect_teams_data(matches, team_names, COLUMNS)"
   ]
  },
  {
   "cell_type": "code",
   "execution_count": null,
   "id": "74d66bad-9837-4ac7-9b0c-f2be42d419cb",
   "metadata": {},
   "outputs": [],
   "source": [
    "team_data['Liverpool']"
   ]
  },
  {
   "cell_type": "markdown",
   "id": "9c019c9e-9ba4-40d6-9569-6704270fda3f",
   "metadata": {},
   "source": [
    "# Save File"
   ]
  },
  {
   "cell_type": "code",
   "execution_count": null,
   "id": "54639227-76dc-4749-839c-e751ebd505b4",
   "metadata": {
    "scrolled": true
   },
   "outputs": [],
   "source": [
    "save_excel(team_data, OUTPUT_FILE)"
   ]
  }
 ],
 "metadata": {
  "kernelspec": {
   "display_name": ".venv_sofascore-scraper",
   "language": "python",
   "name": ".venv_sofascore-scraper"
  },
  "language_info": {
   "codemirror_mode": {
    "name": "ipython",
    "version": 3
   },
   "file_extension": ".py",
   "mimetype": "text/x-python",
   "name": "python",
   "nbconvert_exporter": "python",
   "pygments_lexer": "ipython3",
   "version": "3.12.8"
  }
 },
 "nbformat": 4,
 "nbformat_minor": 5
}
