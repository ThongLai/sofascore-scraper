{
 "cells": [
  {
   "cell_type": "code",
   "execution_count": 1,
   "id": "8286515d-677b-4236-b189-92fb12f445d0",
   "metadata": {},
   "outputs": [
    {
     "name": "stdout",
     "output_type": "stream",
     "text": [
      "Note: you may need to restart the kernel to use updated packages.\n",
      "Note: you may need to restart the kernel to use updated packages.\n"
     ]
    }
   ],
   "source": [
    "%pip install --upgrade pip -q\n",
    "%pip install -r requirements.txt -q"
   ]
  },
  {
   "cell_type": "code",
   "execution_count": 2,
   "id": "81bb6732-0698-4906-adbb-302311833363",
   "metadata": {},
   "outputs": [
    {
     "name": "stdout",
     "output_type": "stream",
     "text": [
      "Python Version: `3.12.8 (tags/v3.12.8:2dc476b, Dec  3 2024, 19:30:04) [MSC v.1942 64 bit (AMD64)]`\n",
      "Base Python location: `C:\\Users\\LMT\\AppData\\Local\\Programs\\Python\\Python312`\n",
      "Current Environment location: `.venv_sofascore-scraper`\n",
      "\n"
     ]
    }
   ],
   "source": [
    "import sys\n",
    "import os\n",
    "# \n",
    "# Check Python version\n",
    "print(f\"Python Version: `{sys.version}`\")  # Detailed version info\n",
    "print(f\"Base Python location: `{sys.base_prefix}`\")\n",
    "print(f\"Current Environment location: `{os.path.basename(sys.prefix)}`\", end='\\n\\n')"
   ]
  },
  {
   "cell_type": "code",
   "execution_count": 3,
   "id": "9415a57e-36c9-487b-a8e1-3d138510456f",
   "metadata": {},
   "outputs": [],
   "source": [
    "# Output file name\n",
    "OUTPUT_FILE = \"sofascore.xlsx\"\n",
    "\n",
    "# ------------------------------------------------------------------------------\n",
    "# Configuration for Season, League, and Team Filtering\n",
    "#\n",
    "# SEASON:\n",
    "#   - Specify one or more seasons as a list.\n",
    "#   - Examples: ['24/25', '23/24'] or ['2025']\n",
    "#   - Use the season format required by the league. For valid season formats, you\n",
    "#     can use: sfc.Sofascore.get_valid_seasons()\n",
    "#   - Special options:\n",
    "#       ['ALL'] or []    -> Include all available seasons.\n",
    "#       ['LATEST']       -> Include only the most recent season.\n",
    "SEASON = ['ALL']\n",
    "\n",
    "# LEAGUE:\n",
    "#   - Specify one or more league names as a list.\n",
    "#   - Examples: ['Champions League', 'EPL']\n",
    "#   - Make sure you use the correct league name format.\n",
    "#   - Use ['ALL'] or [] -> target all leagues.\n",
    "LEAGUE = ['ALL']\n",
    "\n",
    "# TEAM_IN_LEAGUE:\n",
    "#   - (Optional) Specify a particular team or teams within the league.\n",
    "#   - Example: ['EPL'] to filter for teams in the English Premier League.\n",
    "TEAM_IN_LEAGUE = ['EPL']\n",
    "# ------------------------------------------------------------------------------\n",
    "\n",
    "# List of column names\n",
    "COLUMNS = [\n",
    "    'W/L',\n",
    "    'T/X',\n",
    "    'Total of W',\n",
    "    'Home/Away',\n",
    "    'Correct score',\n",
    "    'HT',\n",
    "    'Total Goal O/E',\n",
    "    'Score O/E',\n",
    "    'Concede O/E',\n",
    "    'BTTS',\n",
    "    'Corner',\n",
    "    'Card',\n",
    "    'Corner HT',\n",
    "    'Card HT',\n",
    "    'ASIAN',\n",
    "    'Handicap Value',\n",
    "    'Date'\n",
    "]"
   ]
  },
  {
   "cell_type": "markdown",
   "id": "f335fa9e-c5e2-4766-9c9d-193b0af1c9ad",
   "metadata": {},
   "source": [
    "# Import tools and library"
   ]
  },
  {
   "cell_type": "markdown",
   "id": "25efece0-22fd-437a-b0ef-590b6c1c5ef6",
   "metadata": {},
   "source": [
    "- [ScraperFC's Sofascore API documentation](https://scraperfc.readthedocs.io/en/latest/sofascore.html)\n",
    "- [Sofascore Source](https://www.sofascore.com) "
   ]
  },
  {
   "cell_type": "code",
   "execution_count": 4,
   "id": "efa46767-ac96-475a-bee6-2962b58aa6a2",
   "metadata": {},
   "outputs": [],
   "source": [
    "import ScraperFC as sfc\n",
    "from sofascore_scraper_tools import get_league_matches, collect_teams_data, get_teams_in_league, save_excel\n",
    "import pandas as pd"
   ]
  },
  {
   "cell_type": "markdown",
   "id": "32ddc0b2-b906-4fda-81db-850db678668d",
   "metadata": {},
   "source": [
    "# Get all matches in the league"
   ]
  },
  {
   "cell_type": "code",
   "execution_count": 6,
   "id": "832d605f-38c1-4edb-b2e0-34d67d0cb5eb",
   "metadata": {},
   "outputs": [
    {
     "name": "stdout",
     "output_type": "stream",
     "text": [
      "Running\n"
     ]
    },
    {
     "name": "stderr",
     "output_type": "stream",
     "text": [
      "Processing Seasons for `Champions League`: 100%|███████████████████████████████████████| 22/22 [00:30<00:00,  1.37s/it]\n",
      "Processing Seasons for `Europa League`: 100%|██████████████████████████████████████████| 16/16 [00:48<00:00,  3.04s/it]\n",
      "Processing Seasons for `Europa Conference League`: 100%|█████████████████████████████████| 4/4 [00:14<00:00,  3.56s/it]\n",
      "Processing Seasons for `EPL`: 100%|████████████████████████████████████████████████████| 32/32 [01:19<00:00,  2.48s/it]\n",
      "Processing Seasons for `La Liga`: 100%|████████████████████████████████████████████████| 32/32 [01:18<00:00,  2.47s/it]\n",
      "Processing Seasons for `Bundesliga`: 100%|█████████████████████████████████████████████| 29/29 [01:00<00:00,  2.09s/it]\n",
      "Processing Seasons for `Serie A`: 100%|████████████████████████████████████████████████| 28/28 [01:04<00:00,  2.30s/it]\n",
      "Processing Seasons for `Ligue 1`: 100%|████████████████████████████████████████████████| 28/28 [01:03<00:00,  2.27s/it]\n",
      "Processing Seasons for `Turkish Super Lig`: 100%|██████████████████████████████████████| 17/17 [00:35<00:00,  2.09s/it]\n",
      "Processing Seasons for `Argentina Liga Profesional`: 100%|█████████████████████████████| 18/18 [00:41<00:00,  2.31s/it]\n",
      "Processing Seasons for `Argentina Copa de la Liga Profesional`: 100%|████████████████████| 6/6 [00:07<00:00,  1.21s/it]\n",
      "Processing Seasons for `Liga 1 Peru`: 100%|████████████████████████████████████████████| 18/18 [00:37<00:00,  2.11s/it]\n",
      "Processing Seasons for `Copa Libertadores`: 100%|██████████████████████████████████████| 17/17 [00:19<00:00,  1.14s/it]\n",
      "Processing Seasons for `MLS`: 100%|████████████████████████████████████████████████████| 18/18 [00:41<00:00,  2.32s/it]\n",
      "Processing Seasons for `USL Championship`: 100%|███████████████████████████████████████| 10/10 [00:27<00:00,  2.79s/it]\n",
      "Processing Seasons for `USL1`: 100%|█████████████████████████████████████████████████████| 7/7 [00:06<00:00,  1.00it/s]\n",
      "Processing Seasons for `USL2`: 100%|█████████████████████████████████████████████████████| 6/6 [00:21<00:00,  3.64s/it]\n",
      "Processing Seasons for `Saudi Pro League`: 100%|███████████████████████████████████████| 14/14 [00:22<00:00,  1.58s/it]\n",
      "Processing Seasons for `World Cup`: 100%|██████████████████████████████████████████████| 23/23 [00:11<00:00,  2.00it/s]\n",
      "Processing Seasons for `Euros`: 100%|██████████████████████████████████████████████████| 17/17 [00:07<00:00,  2.39it/s]\n",
      "Processing Seasons for `Gold Cup`: 100%|█████████████████████████████████████████████████| 8/8 [00:03<00:00,  2.35it/s]\n",
      "Processing Seasons for `Women's World Cup`: 100%|████████████████████████████████████████| 4/4 [00:02<00:00,  1.75it/s]\n",
      "Processing Seasons for `EFL`: 100%|████████████████████████████████████████████████████| 17/17 [00:15<00:00,  1.12it/s]\n",
      "Processing Seasons for `FA`: 100%|█████████████████████████████████████████████████████| 17/17 [00:25<00:00,  1.50s/it]\n",
      "Processing Seasons for `Emirates`: 100%|█████████████████████████████████████████████████| 7/7 [00:02<00:00,  2.96it/s]\n",
      "Processing Seasons for `League One`: 100%|█████████████████████████████████████████████| 17/17 [00:58<00:00,  3.47s/it]\n"
     ]
    }
   ],
   "source": [
    "matches = get_league_matches(SEASON, LEAGUE)"
   ]
  },
  {
   "cell_type": "markdown",
   "id": "13d4509c-1446-4f14-b567-41607ceef81c",
   "metadata": {},
   "source": [
    "# Get teams in the league"
   ]
  },
  {
   "cell_type": "code",
   "execution_count": 7,
   "id": "78a6752c-483b-4355-b166-5d464ec0567d",
   "metadata": {},
   "outputs": [
    {
     "name": "stderr",
     "output_type": "stream",
     "text": [
      "Processing Seasons for `EPL`: 100%|████████████████████████████████████████████████████| 32/32 [01:13<00:00,  2.31s/it]\n"
     ]
    },
    {
     "data": {
      "text/html": [
       "<div>\n",
       "<style scoped>\n",
       "    .dataframe tbody tr th:only-of-type {\n",
       "        vertical-align: middle;\n",
       "    }\n",
       "\n",
       "    .dataframe tbody tr th {\n",
       "        vertical-align: top;\n",
       "    }\n",
       "\n",
       "    .dataframe thead th {\n",
       "        text-align: right;\n",
       "    }\n",
       "</style>\n",
       "<table border=\"1\" class=\"dataframe\">\n",
       "  <thead>\n",
       "    <tr style=\"text-align: right;\">\n",
       "      <th></th>\n",
       "      <th>0</th>\n",
       "    </tr>\n",
       "  </thead>\n",
       "  <tbody>\n",
       "    <tr>\n",
       "      <th>0</th>\n",
       "      <td>Arsenal</td>\n",
       "    </tr>\n",
       "    <tr>\n",
       "      <th>1</th>\n",
       "      <td>Aston Villa</td>\n",
       "    </tr>\n",
       "    <tr>\n",
       "      <th>2</th>\n",
       "      <td>Barnsley</td>\n",
       "    </tr>\n",
       "    <tr>\n",
       "      <th>3</th>\n",
       "      <td>Birmingham City</td>\n",
       "    </tr>\n",
       "    <tr>\n",
       "      <th>4</th>\n",
       "      <td>Blackburn Rovers</td>\n",
       "    </tr>\n",
       "    <tr>\n",
       "      <th>5</th>\n",
       "      <td>Blackpool</td>\n",
       "    </tr>\n",
       "    <tr>\n",
       "      <th>6</th>\n",
       "      <td>Bolton Wanderers</td>\n",
       "    </tr>\n",
       "    <tr>\n",
       "      <th>7</th>\n",
       "      <td>Bournemouth</td>\n",
       "    </tr>\n",
       "    <tr>\n",
       "      <th>8</th>\n",
       "      <td>Bradford City</td>\n",
       "    </tr>\n",
       "    <tr>\n",
       "      <th>9</th>\n",
       "      <td>Brentford</td>\n",
       "    </tr>\n",
       "    <tr>\n",
       "      <th>10</th>\n",
       "      <td>Brighton &amp; Hove Albion</td>\n",
       "    </tr>\n",
       "    <tr>\n",
       "      <th>11</th>\n",
       "      <td>Burnley</td>\n",
       "    </tr>\n",
       "    <tr>\n",
       "      <th>12</th>\n",
       "      <td>Cardiff City</td>\n",
       "    </tr>\n",
       "    <tr>\n",
       "      <th>13</th>\n",
       "      <td>Charlton Athletic</td>\n",
       "    </tr>\n",
       "    <tr>\n",
       "      <th>14</th>\n",
       "      <td>Chelsea</td>\n",
       "    </tr>\n",
       "    <tr>\n",
       "      <th>15</th>\n",
       "      <td>Coventry City</td>\n",
       "    </tr>\n",
       "    <tr>\n",
       "      <th>16</th>\n",
       "      <td>Crystal Palace</td>\n",
       "    </tr>\n",
       "    <tr>\n",
       "      <th>17</th>\n",
       "      <td>Derby County</td>\n",
       "    </tr>\n",
       "    <tr>\n",
       "      <th>18</th>\n",
       "      <td>Everton</td>\n",
       "    </tr>\n",
       "    <tr>\n",
       "      <th>19</th>\n",
       "      <td>Fulham</td>\n",
       "    </tr>\n",
       "    <tr>\n",
       "      <th>20</th>\n",
       "      <td>Huddersfield Town</td>\n",
       "    </tr>\n",
       "    <tr>\n",
       "      <th>21</th>\n",
       "      <td>Hull City</td>\n",
       "    </tr>\n",
       "    <tr>\n",
       "      <th>22</th>\n",
       "      <td>Ipswich Town</td>\n",
       "    </tr>\n",
       "    <tr>\n",
       "      <th>23</th>\n",
       "      <td>Leeds United</td>\n",
       "    </tr>\n",
       "    <tr>\n",
       "      <th>24</th>\n",
       "      <td>Leicester City</td>\n",
       "    </tr>\n",
       "    <tr>\n",
       "      <th>25</th>\n",
       "      <td>Liverpool</td>\n",
       "    </tr>\n",
       "    <tr>\n",
       "      <th>26</th>\n",
       "      <td>Luton Town</td>\n",
       "    </tr>\n",
       "    <tr>\n",
       "      <th>27</th>\n",
       "      <td>Manchester City</td>\n",
       "    </tr>\n",
       "    <tr>\n",
       "      <th>28</th>\n",
       "      <td>Manchester United</td>\n",
       "    </tr>\n",
       "    <tr>\n",
       "      <th>29</th>\n",
       "      <td>Middlesbrough</td>\n",
       "    </tr>\n",
       "    <tr>\n",
       "      <th>30</th>\n",
       "      <td>Milton Keynes Dons</td>\n",
       "    </tr>\n",
       "    <tr>\n",
       "      <th>31</th>\n",
       "      <td>Newcastle United</td>\n",
       "    </tr>\n",
       "    <tr>\n",
       "      <th>32</th>\n",
       "      <td>Norwich City</td>\n",
       "    </tr>\n",
       "    <tr>\n",
       "      <th>33</th>\n",
       "      <td>Nottingham Forest</td>\n",
       "    </tr>\n",
       "    <tr>\n",
       "      <th>34</th>\n",
       "      <td>Oldham Athletic</td>\n",
       "    </tr>\n",
       "    <tr>\n",
       "      <th>35</th>\n",
       "      <td>Portsmouth</td>\n",
       "    </tr>\n",
       "    <tr>\n",
       "      <th>36</th>\n",
       "      <td>Queens Park Rangers</td>\n",
       "    </tr>\n",
       "    <tr>\n",
       "      <th>37</th>\n",
       "      <td>Reading</td>\n",
       "    </tr>\n",
       "    <tr>\n",
       "      <th>38</th>\n",
       "      <td>Sheffield United</td>\n",
       "    </tr>\n",
       "    <tr>\n",
       "      <th>39</th>\n",
       "      <td>Sheffield Wednesday</td>\n",
       "    </tr>\n",
       "    <tr>\n",
       "      <th>40</th>\n",
       "      <td>Southampton</td>\n",
       "    </tr>\n",
       "    <tr>\n",
       "      <th>41</th>\n",
       "      <td>Stoke City</td>\n",
       "    </tr>\n",
       "    <tr>\n",
       "      <th>42</th>\n",
       "      <td>Sunderland</td>\n",
       "    </tr>\n",
       "    <tr>\n",
       "      <th>43</th>\n",
       "      <td>Swansea City</td>\n",
       "    </tr>\n",
       "    <tr>\n",
       "      <th>44</th>\n",
       "      <td>Swindon Town</td>\n",
       "    </tr>\n",
       "    <tr>\n",
       "      <th>45</th>\n",
       "      <td>Tottenham Hotspur</td>\n",
       "    </tr>\n",
       "    <tr>\n",
       "      <th>46</th>\n",
       "      <td>Watford</td>\n",
       "    </tr>\n",
       "    <tr>\n",
       "      <th>47</th>\n",
       "      <td>West Bromwich Albion</td>\n",
       "    </tr>\n",
       "    <tr>\n",
       "      <th>48</th>\n",
       "      <td>West Ham United</td>\n",
       "    </tr>\n",
       "    <tr>\n",
       "      <th>49</th>\n",
       "      <td>Wigan Athletic</td>\n",
       "    </tr>\n",
       "    <tr>\n",
       "      <th>50</th>\n",
       "      <td>Wolverhampton</td>\n",
       "    </tr>\n",
       "  </tbody>\n",
       "</table>\n",
       "</div>"
      ],
      "text/plain": [
       "                         0\n",
       "0                  Arsenal\n",
       "1              Aston Villa\n",
       "2                 Barnsley\n",
       "3          Birmingham City\n",
       "4         Blackburn Rovers\n",
       "5                Blackpool\n",
       "6         Bolton Wanderers\n",
       "7              Bournemouth\n",
       "8            Bradford City\n",
       "9                Brentford\n",
       "10  Brighton & Hove Albion\n",
       "11                 Burnley\n",
       "12            Cardiff City\n",
       "13       Charlton Athletic\n",
       "14                 Chelsea\n",
       "15           Coventry City\n",
       "16          Crystal Palace\n",
       "17            Derby County\n",
       "18                 Everton\n",
       "19                  Fulham\n",
       "20       Huddersfield Town\n",
       "21               Hull City\n",
       "22            Ipswich Town\n",
       "23            Leeds United\n",
       "24          Leicester City\n",
       "25               Liverpool\n",
       "26              Luton Town\n",
       "27         Manchester City\n",
       "28       Manchester United\n",
       "29           Middlesbrough\n",
       "30      Milton Keynes Dons\n",
       "31        Newcastle United\n",
       "32            Norwich City\n",
       "33       Nottingham Forest\n",
       "34         Oldham Athletic\n",
       "35              Portsmouth\n",
       "36     Queens Park Rangers\n",
       "37                 Reading\n",
       "38        Sheffield United\n",
       "39     Sheffield Wednesday\n",
       "40             Southampton\n",
       "41              Stoke City\n",
       "42              Sunderland\n",
       "43            Swansea City\n",
       "44            Swindon Town\n",
       "45       Tottenham Hotspur\n",
       "46                 Watford\n",
       "47    West Bromwich Albion\n",
       "48         West Ham United\n",
       "49          Wigan Athletic\n",
       "50           Wolverhampton"
      ]
     },
     "execution_count": 7,
     "metadata": {},
     "output_type": "execute_result"
    }
   ],
   "source": [
    "team_names = get_teams_in_league(TEAM_IN_LEAGUE, SEASON)\n",
    "# team_names = ['Liverpool']\n",
    "pd.DataFrame(team_names)"
   ]
  },
  {
   "cell_type": "code",
   "execution_count": 8,
   "id": "5d0b3b03-d572-417b-8c54-f3aa4fbacbc1",
   "metadata": {
    "scrolled": true
   },
   "outputs": [
    {
     "name": "stderr",
     "output_type": "stream",
     "text": [
      "Processing `Arsenal` matches: 100%|████████████████████████████████████████████████| 1585/1585 [04:24<00:00,  6.00it/s]\n"
     ]
    },
    {
     "name": "stdout",
     "output_type": "stream",
     "text": [
      "Added data for `Arsenal` with `1562` rows\n"
     ]
    },
    {
     "name": "stderr",
     "output_type": "stream",
     "text": [
      "Processing `Aston Villa` matches: 100%|████████████████████████████████████████████| 1236/1236 [03:47<00:00,  5.43it/s]\n"
     ]
    },
    {
     "name": "stdout",
     "output_type": "stream",
     "text": [
      "Added data for `Aston Villa` with `1219` rows\n"
     ]
    },
    {
     "name": "stderr",
     "output_type": "stream",
     "text": [
      "Processing `Barnsley` matches:  58%|████████████████████████████▎                    | 231/399 [00:46<00:36,  4.58it/s]"
     ]
    },
    {
     "name": "stdout",
     "output_type": "stream",
     "text": [
      "Error processing match `7227950` for `Barnsley`: `'current'`\n"
     ]
    },
    {
     "name": "stderr",
     "output_type": "stream",
     "text": [
      "Processing `Barnsley` matches: 100%|█████████████████████████████████████████████████| 399/399 [01:21<00:00,  4.92it/s]\n"
     ]
    },
    {
     "name": "stdout",
     "output_type": "stream",
     "text": [
      "Added data for `Barnsley` with `381` rows\n"
     ]
    },
    {
     "name": "stderr",
     "output_type": "stream",
     "text": [
      "Processing `Birmingham City` matches: 100%|██████████████████████████████████████████| 405/405 [01:14<00:00,  5.44it/s]\n"
     ]
    },
    {
     "name": "stdout",
     "output_type": "stream",
     "text": [
      "Added data for `Birmingham City` with `394` rows\n"
     ]
    },
    {
     "name": "stderr",
     "output_type": "stream",
     "text": [
      "Processing `Blackburn Rovers` matches: 100%|█████████████████████████████████████████| 797/797 [02:30<00:00,  5.28it/s]\n"
     ]
    },
    {
     "name": "stdout",
     "output_type": "stream",
     "text": [
      "Added data for `Blackburn Rovers` with `789` rows\n"
     ]
    },
    {
     "name": "stderr",
     "output_type": "stream",
     "text": [
      "Processing `Blackpool` matches: 100%|████████████████████████████████████████████████| 441/441 [01:24<00:00,  5.20it/s]\n"
     ]
    },
    {
     "name": "stdout",
     "output_type": "stream",
     "text": [
      "Added data for `Blackpool` with `413` rows\n"
     ]
    },
    {
     "name": "stderr",
     "output_type": "stream",
     "text": [
      "Processing `Bolton Wanderers` matches: 100%|█████████████████████████████████████████| 863/863 [02:43<00:00,  5.26it/s]\n"
     ]
    },
    {
     "name": "stdout",
     "output_type": "stream",
     "text": [
      "Added data for `Bolton Wanderers` with `834` rows\n"
     ]
    },
    {
     "name": "stderr",
     "output_type": "stream",
     "text": [
      "Processing `Bournemouth` matches:  67%|██████████████████████████████▉               | 357/531 [01:15<00:37,  4.69it/s]"
     ]
    },
    {
     "name": "stdout",
     "output_type": "stream",
     "text": [
      "Error processing match `4901572` for `Bournemouth`: `'current'`\n"
     ]
    },
    {
     "name": "stderr",
     "output_type": "stream",
     "text": [
      "Processing `Bournemouth` matches: 100%|██████████████████████████████████████████████| 531/531 [01:54<00:00,  4.64it/s]\n"
     ]
    },
    {
     "name": "stdout",
     "output_type": "stream",
     "text": [
      "Added data for `Bournemouth` with `518` rows\n"
     ]
    },
    {
     "name": "stderr",
     "output_type": "stream",
     "text": [
      "Processing `Bradford City` matches: 100%|████████████████████████████████████████████| 446/446 [01:28<00:00,  5.05it/s]\n"
     ]
    },
    {
     "name": "stdout",
     "output_type": "stream",
     "text": [
      "Added data for `Bradford City` with `431` rows\n"
     ]
    },
    {
     "name": "stderr",
     "output_type": "stream",
     "text": [
      "Processing `Brentford` matches: 100%|████████████████████████████████████████████████| 478/478 [01:41<00:00,  4.71it/s]\n"
     ]
    },
    {
     "name": "stdout",
     "output_type": "stream",
     "text": [
      "Added data for `Brentford` with `455` rows\n"
     ]
    },
    {
     "name": "stderr",
     "output_type": "stream",
     "text": [
      "Processing `Brighton & Hove Albion` matches: 100%|███████████████████████████████████| 560/560 [01:55<00:00,  4.86it/s]\n"
     ]
    },
    {
     "name": "stdout",
     "output_type": "stream",
     "text": [
      "Added data for `Brighton & Hove Albion` with `537` rows\n"
     ]
    },
    {
     "name": "stderr",
     "output_type": "stream",
     "text": [
      "Processing `Burnley` matches:  72%|███████████████████████████████████▊              | 317/442 [01:05<00:26,  4.79it/s]"
     ]
    },
    {
     "name": "stdout",
     "output_type": "stream",
     "text": [
      "Error processing match `7227949` for `Burnley`: `'current'`\n"
     ]
    },
    {
     "name": "stderr",
     "output_type": "stream",
     "text": [
      "Processing `Burnley` matches: 100%|██████████████████████████████████████████████████| 442/442 [01:30<00:00,  4.89it/s]\n"
     ]
    },
    {
     "name": "stdout",
     "output_type": "stream",
     "text": [
      "Added data for `Burnley` with `430` rows\n"
     ]
    },
    {
     "name": "stderr",
     "output_type": "stream",
     "text": [
      "Processing `Cardiff City` matches: 100%|█████████████████████████████████████████████| 152/152 [00:32<00:00,  4.68it/s]\n"
     ]
    },
    {
     "name": "stdout",
     "output_type": "stream",
     "text": [
      "Added data for `Cardiff City` with `149` rows\n"
     ]
    },
    {
     "name": "stderr",
     "output_type": "stream",
     "text": [
      "Processing `Charlton Athletic` matches: 100%|████████████████████████████████████████| 926/926 [02:53<00:00,  5.33it/s]\n"
     ]
    },
    {
     "name": "stdout",
     "output_type": "stream",
     "text": [
      "Added data for `Charlton Athletic` with `882` rows\n"
     ]
    },
    {
     "name": "stderr",
     "output_type": "stream",
     "text": [
      "Processing `Chelsea` matches: 100%|████████████████████████████████████████████████| 1596/1596 [04:57<00:00,  5.37it/s]\n"
     ]
    },
    {
     "name": "stdout",
     "output_type": "stream",
     "text": [
      "Added data for `Chelsea` with `1577` rows\n"
     ]
    },
    {
     "name": "stderr",
     "output_type": "stream",
     "text": [
      "Processing `Coventry City` matches: 100%|████████████████████████████████████████████| 705/705 [02:15<00:00,  5.21it/s]\n"
     ]
    },
    {
     "name": "stdout",
     "output_type": "stream",
     "text": [
      "Added data for `Coventry City` with `695` rows\n"
     ]
    },
    {
     "name": "stderr",
     "output_type": "stream",
     "text": [
      "Processing `Crystal Palace` matches: 100%|███████████████████████████████████████████| 664/664 [02:01<00:00,  5.48it/s]\n"
     ]
    },
    {
     "name": "stdout",
     "output_type": "stream",
     "text": [
      "Added data for `Crystal Palace` with `651` rows\n"
     ]
    },
    {
     "name": "stderr",
     "output_type": "stream",
     "text": [
      "Processing `Derby County` matches: 100%|█████████████████████████████████████████████| 449/449 [01:17<00:00,  5.81it/s]\n"
     ]
    },
    {
     "name": "stdout",
     "output_type": "stream",
     "text": [
      "Added data for `Derby County` with `440` rows\n"
     ]
    },
    {
     "name": "stderr",
     "output_type": "stream",
     "text": [
      "Processing `Everton` matches: 100%|████████████████████████████████████████████████| 1364/1364 [04:00<00:00,  5.67it/s]\n"
     ]
    },
    {
     "name": "stdout",
     "output_type": "stream",
     "text": [
      "Added data for `Everton` with `1346` rows\n"
     ]
    },
    {
     "name": "stderr",
     "output_type": "stream",
     "text": [
      "Processing `Fulham` matches: 100%|███████████████████████████████████████████████████| 809/809 [02:27<00:00,  5.50it/s]\n"
     ]
    },
    {
     "name": "stdout",
     "output_type": "stream",
     "text": [
      "Added data for `Fulham` with `798` rows\n"
     ]
    },
    {
     "name": "stderr",
     "output_type": "stream",
     "text": [
      "Processing `Huddersfield Town` matches: 100%|████████████████████████████████████████| 383/383 [01:19<00:00,  4.85it/s]\n"
     ]
    },
    {
     "name": "stdout",
     "output_type": "stream",
     "text": [
      "Added data for `Huddersfield Town` with `372` rows\n"
     ]
    },
    {
     "name": "stderr",
     "output_type": "stream",
     "text": [
      "Processing `Hull City` matches: 100%|████████████████████████████████████████████████| 321/321 [00:54<00:00,  5.94it/s]\n"
     ]
    },
    {
     "name": "stdout",
     "output_type": "stream",
     "text": [
      "Added data for `Hull City` with `314` rows\n"
     ]
    },
    {
     "name": "stderr",
     "output_type": "stream",
     "text": [
      "Processing `Ipswich Town` matches: 100%|█████████████████████████████████████████████| 450/450 [01:21<00:00,  5.50it/s]\n"
     ]
    },
    {
     "name": "stdout",
     "output_type": "stream",
     "text": [
      "Added data for `Ipswich Town` with `435` rows\n"
     ]
    },
    {
     "name": "stderr",
     "output_type": "stream",
     "text": [
      "Processing `Leeds United` matches: 100%|█████████████████████████████████████████████| 726/726 [02:11<00:00,  5.53it/s]\n"
     ]
    },
    {
     "name": "stdout",
     "output_type": "stream",
     "text": [
      "Added data for `Leeds United` with `717` rows\n"
     ]
    },
    {
     "name": "stderr",
     "output_type": "stream",
     "text": [
      "Processing `Leicester City` matches: 100%|███████████████████████████████████████████| 878/878 [02:32<00:00,  5.76it/s]\n"
     ]
    },
    {
     "name": "stdout",
     "output_type": "stream",
     "text": [
      "Added data for `Leicester City` with `863` rows\n"
     ]
    },
    {
     "name": "stderr",
     "output_type": "stream",
     "text": [
      "Processing `Liverpool` matches: 100%|██████████████████████████████████████████████| 1571/1571 [04:31<00:00,  5.79it/s]\n"
     ]
    },
    {
     "name": "stdout",
     "output_type": "stream",
     "text": [
      "Added data for `Liverpool` with `1552` rows\n"
     ]
    },
    {
     "name": "stderr",
     "output_type": "stream",
     "text": [
      "Processing `Luton Town` matches: 100%|███████████████████████████████████████████████| 161/161 [00:33<00:00,  4.82it/s]\n"
     ]
    },
    {
     "name": "stdout",
     "output_type": "stream",
     "text": [
      "Added data for `Luton Town` with `161` rows\n"
     ]
    },
    {
     "name": "stderr",
     "output_type": "stream",
     "text": [
      "Processing `Manchester City` matches: 100%|████████████████████████████████████████| 1340/1340 [03:50<00:00,  5.81it/s]\n"
     ]
    },
    {
     "name": "stdout",
     "output_type": "stream",
     "text": [
      "Added data for `Manchester City` with `1317` rows\n"
     ]
    },
    {
     "name": "stderr",
     "output_type": "stream",
     "text": [
      "Processing `Manchester United` matches: 100%|██████████████████████████████████████| 1594/1594 [04:39<00:00,  5.70it/s]\n"
     ]
    },
    {
     "name": "stdout",
     "output_type": "stream",
     "text": [
      "Added data for `Manchester United` with `1572` rows\n"
     ]
    },
    {
     "name": "stderr",
     "output_type": "stream",
     "text": [
      "Processing `Middlesbrough` matches: 100%|████████████████████████████████████████████| 617/617 [01:43<00:00,  5.94it/s]\n"
     ]
    },
    {
     "name": "stdout",
     "output_type": "stream",
     "text": [
      "Added data for `Middlesbrough` with `614` rows\n"
     ]
    },
    {
     "name": "stderr",
     "output_type": "stream",
     "text": [
      "Processing `Milton Keynes Dons` matches: 100%|███████████████████████████████████████| 988/988 [03:13<00:00,  5.12it/s]\n"
     ]
    },
    {
     "name": "stdout",
     "output_type": "stream",
     "text": [
      "Added data for `Milton Keynes Dons` with `952` rows\n"
     ]
    },
    {
     "name": "stderr",
     "output_type": "stream",
     "text": [
      "Processing `Newcastle United` matches: 100%|███████████████████████████████████████| 1263/1263 [03:34<00:00,  5.88it/s]\n"
     ]
    },
    {
     "name": "stdout",
     "output_type": "stream",
     "text": [
      "Added data for `Newcastle United` with `1247` rows\n"
     ]
    },
    {
     "name": "stderr",
     "output_type": "stream",
     "text": [
      "Processing `Norwich City` matches: 100%|█████████████████████████████████████████████| 473/473 [01:21<00:00,  5.80it/s]\n"
     ]
    },
    {
     "name": "stdout",
     "output_type": "stream",
     "text": [
      "Added data for `Norwich City` with `469` rows\n"
     ]
    },
    {
     "name": "stderr",
     "output_type": "stream",
     "text": [
      "Processing `Nottingham Forest` matches: 100%|████████████████████████████████████████| 345/345 [00:59<00:00,  5.84it/s]\n"
     ]
    },
    {
     "name": "stdout",
     "output_type": "stream",
     "text": [
      "Added data for `Nottingham Forest` with `343` rows\n"
     ]
    },
    {
     "name": "stderr",
     "output_type": "stream",
     "text": [
      "Processing `Oldham Athletic` matches: 100%|██████████████████████████████████████████| 599/599 [01:52<00:00,  5.31it/s]\n"
     ]
    },
    {
     "name": "stdout",
     "output_type": "stream",
     "text": [
      "Added data for `Oldham Athletic` with `563` rows\n"
     ]
    },
    {
     "name": "stderr",
     "output_type": "stream",
     "text": [
      "Processing `Portsmouth` matches:  51%|████████████████████████▏                      | 378/734 [01:16<00:57,  6.14it/s]"
     ]
    },
    {
     "name": "stdout",
     "output_type": "stream",
     "text": [
      "Error processing match `7227950` for `Portsmouth`: `'current'`\n"
     ]
    },
    {
     "name": "stderr",
     "output_type": "stream",
     "text": [
      "Processing `Portsmouth` matches: 100%|███████████████████████████████████████████████| 734/734 [02:11<00:00,  5.60it/s]\n"
     ]
    },
    {
     "name": "stdout",
     "output_type": "stream",
     "text": [
      "Added data for `Portsmouth` with `699` rows\n"
     ]
    },
    {
     "name": "stderr",
     "output_type": "stream",
     "text": [
      "Processing `Queens Park Rangers` matches: 100%|██████████████████████████████████████| 300/300 [00:48<00:00,  6.13it/s]\n"
     ]
    },
    {
     "name": "stdout",
     "output_type": "stream",
     "text": [
      "Added data for `Queens Park Rangers` with `300` rows\n"
     ]
    },
    {
     "name": "stderr",
     "output_type": "stream",
     "text": [
      "Processing `Reading` matches: 100%|██████████████████████████████████████████████████| 294/294 [00:54<00:00,  5.44it/s]\n"
     ]
    },
    {
     "name": "stdout",
     "output_type": "stream",
     "text": [
      "Added data for `Reading` with `284` rows\n"
     ]
    },
    {
     "name": "stderr",
     "output_type": "stream",
     "text": [
      "Processing `Sheffield United` matches: 100%|█████████████████████████████████████████| 591/591 [01:54<00:00,  5.16it/s]\n"
     ]
    },
    {
     "name": "stdout",
     "output_type": "stream",
     "text": [
      "Added data for `Sheffield United` with `566` rows\n"
     ]
    },
    {
     "name": "stderr",
     "output_type": "stream",
     "text": [
      "Processing `Sheffield Wednesday` matches: 100%|██████████████████████████████████████| 561/561 [01:40<00:00,  5.57it/s]\n"
     ]
    },
    {
     "name": "stdout",
     "output_type": "stream",
     "text": [
      "Added data for `Sheffield Wednesday` with `548` rows\n"
     ]
    },
    {
     "name": "stderr",
     "output_type": "stream",
     "text": [
      "Processing `Southampton` matches: 100%|████████████████████████████████████████████| 1143/1143 [03:11<00:00,  5.98it/s]\n"
     ]
    },
    {
     "name": "stdout",
     "output_type": "stream",
     "text": [
      "Added data for `Southampton` with `1119` rows\n"
     ]
    },
    {
     "name": "stderr",
     "output_type": "stream",
     "text": [
      "Processing `Stoke City` matches: 100%|███████████████████████████████████████████████| 489/489 [01:23<00:00,  5.89it/s]\n"
     ]
    },
    {
     "name": "stdout",
     "output_type": "stream",
     "text": [
      "Added data for `Stoke City` with `486` rows\n"
     ]
    },
    {
     "name": "stderr",
     "output_type": "stream",
     "text": [
      "Processing `Sunderland` matches: 100%|███████████████████████████████████████████████| 897/897 [02:36<00:00,  5.74it/s]\n"
     ]
    },
    {
     "name": "stdout",
     "output_type": "stream",
     "text": [
      "Added data for `Sunderland` with `871` rows\n"
     ]
    },
    {
     "name": "stderr",
     "output_type": "stream",
     "text": [
      "Processing `Swansea City` matches: 100%|█████████████████████████████████████████████| 362/362 [01:00<00:00,  5.98it/s]\n"
     ]
    },
    {
     "name": "stdout",
     "output_type": "stream",
     "text": [
      "Added data for `Swansea City` with `359` rows\n"
     ]
    },
    {
     "name": "stderr",
     "output_type": "stream",
     "text": [
      "Processing `Swindon Town` matches: 100%|█████████████████████████████████████████████| 547/547 [01:42<00:00,  5.35it/s]\n"
     ]
    },
    {
     "name": "stdout",
     "output_type": "stream",
     "text": [
      "Added data for `Swindon Town` with `519` rows\n"
     ]
    },
    {
     "name": "stderr",
     "output_type": "stream",
     "text": [
      "Processing `Tottenham Hotspur` matches: 100%|██████████████████████████████████████| 1487/1487 [04:18<00:00,  5.76it/s]\n"
     ]
    },
    {
     "name": "stdout",
     "output_type": "stream",
     "text": [
      "Added data for `Tottenham Hotspur` with `1467` rows\n"
     ]
    },
    {
     "name": "stderr",
     "output_type": "stream",
     "text": [
      "Processing `Watford` matches:  59%|█████████████████████████████▌                    | 229/387 [00:43<00:30,  5.21it/s]"
     ]
    },
    {
     "name": "stdout",
     "output_type": "stream",
     "text": [
      "Error processing match `7227949` for `Watford`: `'current'`\n"
     ]
    },
    {
     "name": "stderr",
     "output_type": "stream",
     "text": [
      "Processing `Watford` matches: 100%|██████████████████████████████████████████████████| 387/387 [01:10<00:00,  5.46it/s]\n"
     ]
    },
    {
     "name": "stdout",
     "output_type": "stream",
     "text": [
      "Added data for `Watford` with `375` rows\n"
     ]
    },
    {
     "name": "stderr",
     "output_type": "stream",
     "text": [
      "Processing `West Bromwich Albion` matches: 100%|█████████████████████████████████████| 573/573 [01:38<00:00,  5.81it/s]\n"
     ]
    },
    {
     "name": "stdout",
     "output_type": "stream",
     "text": [
      "Added data for `West Bromwich Albion` with `568` rows\n"
     ]
    },
    {
     "name": "stderr",
     "output_type": "stream",
     "text": [
      "Processing `West Ham United` matches: 100%|████████████████████████████████████████| 1253/1253 [03:28<00:00,  6.00it/s]\n"
     ]
    },
    {
     "name": "stdout",
     "output_type": "stream",
     "text": [
      "Added data for `West Ham United` with `1238` rows\n"
     ]
    },
    {
     "name": "stderr",
     "output_type": "stream",
     "text": [
      "Processing `Wigan Athletic` matches: 100%|███████████████████████████████████████████| 691/691 [02:02<00:00,  5.66it/s]\n"
     ]
    },
    {
     "name": "stdout",
     "output_type": "stream",
     "text": [
      "Added data for `Wigan Athletic` with `657` rows\n"
     ]
    },
    {
     "name": "stderr",
     "output_type": "stream",
     "text": [
      "Processing `Wolverhampton` matches: 100%|████████████████████████████████████████████| 568/568 [01:35<00:00,  5.92it/s]"
     ]
    },
    {
     "name": "stdout",
     "output_type": "stream",
     "text": [
      "Added data for `Wolverhampton` with `558` rows\n"
     ]
    },
    {
     "name": "stderr",
     "output_type": "stream",
     "text": [
      "\n"
     ]
    }
   ],
   "source": [
    "team_data = collect_teams_data(matches, team_names, COLUMNS)"
   ]
  },
  {
   "cell_type": "code",
   "execution_count": 9,
   "id": "74d66bad-9837-4ac7-9b0c-f2be42d419cb",
   "metadata": {},
   "outputs": [
    {
     "data": {
      "text/html": [
       "<div>\n",
       "<style scoped>\n",
       "    .dataframe tbody tr th:only-of-type {\n",
       "        vertical-align: middle;\n",
       "    }\n",
       "\n",
       "    .dataframe tbody tr th {\n",
       "        vertical-align: top;\n",
       "    }\n",
       "\n",
       "    .dataframe thead th {\n",
       "        text-align: right;\n",
       "    }\n",
       "</style>\n",
       "<table border=\"1\" class=\"dataframe\">\n",
       "  <thead>\n",
       "    <tr style=\"text-align: right;\">\n",
       "      <th></th>\n",
       "      <th>W/L</th>\n",
       "      <th>T/X</th>\n",
       "      <th>Total of W</th>\n",
       "      <th>Home/Away</th>\n",
       "      <th>Correct score</th>\n",
       "      <th>HT</th>\n",
       "      <th>Total Goal O/E</th>\n",
       "      <th>Score O/E</th>\n",
       "      <th>Concede O/E</th>\n",
       "      <th>BTTS</th>\n",
       "      <th>Corner</th>\n",
       "      <th>Card</th>\n",
       "      <th>Corner HT</th>\n",
       "      <th>Card HT</th>\n",
       "      <th>ASIAN</th>\n",
       "      <th>Handicap Value</th>\n",
       "      <th>Date</th>\n",
       "    </tr>\n",
       "  </thead>\n",
       "  <tbody>\n",
       "    <tr>\n",
       "      <th>0</th>\n",
       "      <td>L</td>\n",
       "      <td>T</td>\n",
       "      <td>5</td>\n",
       "      <td>A</td>\n",
       "      <td>2-3</td>\n",
       "      <td>1-3</td>\n",
       "      <td>O</td>\n",
       "      <td>E</td>\n",
       "      <td>O</td>\n",
       "      <td>Y</td>\n",
       "      <td>4-4</td>\n",
       "      <td>0-3</td>\n",
       "      <td>1-3</td>\n",
       "      <td>0-0</td>\n",
       "      <td>None</td>\n",
       "      <td>-0.50</td>\n",
       "      <td>06-04-2025</td>\n",
       "    </tr>\n",
       "    <tr>\n",
       "      <th>1</th>\n",
       "      <td>W</td>\n",
       "      <td>X</td>\n",
       "      <td>1</td>\n",
       "      <td>H</td>\n",
       "      <td>1-0</td>\n",
       "      <td>0-0</td>\n",
       "      <td>O</td>\n",
       "      <td>O</td>\n",
       "      <td>EN</td>\n",
       "      <td>N</td>\n",
       "      <td>11-5</td>\n",
       "      <td>2-2</td>\n",
       "      <td>5-2</td>\n",
       "      <td>0-2</td>\n",
       "      <td>None</td>\n",
       "      <td>-1.00</td>\n",
       "      <td>02-04-2025</td>\n",
       "    </tr>\n",
       "    <tr>\n",
       "      <th>2</th>\n",
       "      <td>L</td>\n",
       "      <td>T</td>\n",
       "      <td>3</td>\n",
       "      <td>H</td>\n",
       "      <td>1-2</td>\n",
       "      <td>0-1</td>\n",
       "      <td>O</td>\n",
       "      <td>O</td>\n",
       "      <td>E</td>\n",
       "      <td>Y</td>\n",
       "      <td>4-9</td>\n",
       "      <td>1-2</td>\n",
       "      <td>1-6</td>\n",
       "      <td>0-0</td>\n",
       "      <td>None</td>\n",
       "      <td>-0.50</td>\n",
       "      <td>16-03-2025</td>\n",
       "    </tr>\n",
       "    <tr>\n",
       "      <th>3</th>\n",
       "      <td>L</td>\n",
       "      <td>T</td>\n",
       "      <td>6</td>\n",
       "      <td>H</td>\n",
       "      <td>1-5</td>\n",
       "      <td>0-1</td>\n",
       "      <td>E</td>\n",
       "      <td>O</td>\n",
       "      <td>O</td>\n",
       "      <td>Y</td>\n",
       "      <td>12-6</td>\n",
       "      <td>1-1</td>\n",
       "      <td>4-3</td>\n",
       "      <td>0-0</td>\n",
       "      <td>None</td>\n",
       "      <td>-0.25</td>\n",
       "      <td>11-03-2025</td>\n",
       "    </tr>\n",
       "    <tr>\n",
       "      <th>4</th>\n",
       "      <td>W</td>\n",
       "      <td>T</td>\n",
       "      <td>4</td>\n",
       "      <td>H</td>\n",
       "      <td>3-1</td>\n",
       "      <td>0-1</td>\n",
       "      <td>E</td>\n",
       "      <td>O</td>\n",
       "      <td>O</td>\n",
       "      <td>Y</td>\n",
       "      <td>6-4</td>\n",
       "      <td>2-1</td>\n",
       "      <td>2-4</td>\n",
       "      <td>2-0</td>\n",
       "      <td>None</td>\n",
       "      <td>-2.50</td>\n",
       "      <td>08-03-2025</td>\n",
       "    </tr>\n",
       "    <tr>\n",
       "      <th>...</th>\n",
       "      <td>...</td>\n",
       "      <td>...</td>\n",
       "      <td>...</td>\n",
       "      <td>...</td>\n",
       "      <td>...</td>\n",
       "      <td>...</td>\n",
       "      <td>...</td>\n",
       "      <td>...</td>\n",
       "      <td>...</td>\n",
       "      <td>...</td>\n",
       "      <td>...</td>\n",
       "      <td>...</td>\n",
       "      <td>...</td>\n",
       "      <td>...</td>\n",
       "      <td>...</td>\n",
       "      <td>...</td>\n",
       "      <td>...</td>\n",
       "    </tr>\n",
       "    <tr>\n",
       "      <th>1547</th>\n",
       "      <td>W</td>\n",
       "      <td>X</td>\n",
       "      <td>2</td>\n",
       "      <td>H</td>\n",
       "      <td>2-0</td>\n",
       "      <td>None</td>\n",
       "      <td>E</td>\n",
       "      <td>E</td>\n",
       "      <td>EN</td>\n",
       "      <td>N</td>\n",
       "      <td>None</td>\n",
       "      <td>None</td>\n",
       "      <td>None</td>\n",
       "      <td>None</td>\n",
       "      <td>None</td>\n",
       "      <td>NaN</td>\n",
       "      <td>28-08-1993</td>\n",
       "    </tr>\n",
       "    <tr>\n",
       "      <th>1548</th>\n",
       "      <td>L</td>\n",
       "      <td>T</td>\n",
       "      <td>3</td>\n",
       "      <td>H</td>\n",
       "      <td>1-2</td>\n",
       "      <td>None</td>\n",
       "      <td>O</td>\n",
       "      <td>O</td>\n",
       "      <td>E</td>\n",
       "      <td>Y</td>\n",
       "      <td>None</td>\n",
       "      <td>None</td>\n",
       "      <td>None</td>\n",
       "      <td>None</td>\n",
       "      <td>None</td>\n",
       "      <td>NaN</td>\n",
       "      <td>25-08-1993</td>\n",
       "    </tr>\n",
       "    <tr>\n",
       "      <th>1549</th>\n",
       "      <td>W</td>\n",
       "      <td>T</td>\n",
       "      <td>5</td>\n",
       "      <td>A</td>\n",
       "      <td>5-0</td>\n",
       "      <td>None</td>\n",
       "      <td>O</td>\n",
       "      <td>O</td>\n",
       "      <td>EN</td>\n",
       "      <td>N</td>\n",
       "      <td>None</td>\n",
       "      <td>None</td>\n",
       "      <td>None</td>\n",
       "      <td>None</td>\n",
       "      <td>None</td>\n",
       "      <td>NaN</td>\n",
       "      <td>22-08-1993</td>\n",
       "    </tr>\n",
       "    <tr>\n",
       "      <th>1550</th>\n",
       "      <td>W</td>\n",
       "      <td>T</td>\n",
       "      <td>4</td>\n",
       "      <td>A</td>\n",
       "      <td>3-1</td>\n",
       "      <td>None</td>\n",
       "      <td>E</td>\n",
       "      <td>O</td>\n",
       "      <td>O</td>\n",
       "      <td>Y</td>\n",
       "      <td>None</td>\n",
       "      <td>None</td>\n",
       "      <td>None</td>\n",
       "      <td>None</td>\n",
       "      <td>None</td>\n",
       "      <td>NaN</td>\n",
       "      <td>18-08-1993</td>\n",
       "    </tr>\n",
       "    <tr>\n",
       "      <th>1551</th>\n",
       "      <td>W</td>\n",
       "      <td>X</td>\n",
       "      <td>2</td>\n",
       "      <td>H</td>\n",
       "      <td>2-0</td>\n",
       "      <td>None</td>\n",
       "      <td>E</td>\n",
       "      <td>E</td>\n",
       "      <td>EN</td>\n",
       "      <td>N</td>\n",
       "      <td>None</td>\n",
       "      <td>None</td>\n",
       "      <td>None</td>\n",
       "      <td>None</td>\n",
       "      <td>None</td>\n",
       "      <td>NaN</td>\n",
       "      <td>14-08-1993</td>\n",
       "    </tr>\n",
       "  </tbody>\n",
       "</table>\n",
       "<p>1552 rows × 17 columns</p>\n",
       "</div>"
      ],
      "text/plain": [
       "     W/L T/X  Total of W Home/Away Correct score    HT Total Goal O/E  \\\n",
       "0      L   T           5         A           2-3   1-3              O   \n",
       "1      W   X           1         H           1-0   0-0              O   \n",
       "2      L   T           3         H           1-2   0-1              O   \n",
       "3      L   T           6         H           1-5   0-1              E   \n",
       "4      W   T           4         H           3-1   0-1              E   \n",
       "...   ..  ..         ...       ...           ...   ...            ...   \n",
       "1547   W   X           2         H           2-0  None              E   \n",
       "1548   L   T           3         H           1-2  None              O   \n",
       "1549   W   T           5         A           5-0  None              O   \n",
       "1550   W   T           4         A           3-1  None              E   \n",
       "1551   W   X           2         H           2-0  None              E   \n",
       "\n",
       "     Score O/E Concede O/E BTTS Corner  Card Corner HT Card HT ASIAN  \\\n",
       "0            E           O    Y    4-4   0-3       1-3     0-0  None   \n",
       "1            O          EN    N   11-5   2-2       5-2     0-2  None   \n",
       "2            O           E    Y    4-9   1-2       1-6     0-0  None   \n",
       "3            O           O    Y   12-6   1-1       4-3     0-0  None   \n",
       "4            O           O    Y    6-4   2-1       2-4     2-0  None   \n",
       "...        ...         ...  ...    ...   ...       ...     ...   ...   \n",
       "1547         E          EN    N   None  None      None    None  None   \n",
       "1548         O           E    Y   None  None      None    None  None   \n",
       "1549         O          EN    N   None  None      None    None  None   \n",
       "1550         O           O    Y   None  None      None    None  None   \n",
       "1551         E          EN    N   None  None      None    None  None   \n",
       "\n",
       "      Handicap Value        Date  \n",
       "0              -0.50  06-04-2025  \n",
       "1              -1.00  02-04-2025  \n",
       "2              -0.50  16-03-2025  \n",
       "3              -0.25  11-03-2025  \n",
       "4              -2.50  08-03-2025  \n",
       "...              ...         ...  \n",
       "1547             NaN  28-08-1993  \n",
       "1548             NaN  25-08-1993  \n",
       "1549             NaN  22-08-1993  \n",
       "1550             NaN  18-08-1993  \n",
       "1551             NaN  14-08-1993  \n",
       "\n",
       "[1552 rows x 17 columns]"
      ]
     },
     "execution_count": 9,
     "metadata": {},
     "output_type": "execute_result"
    }
   ],
   "source": [
    "team_data['Liverpool']"
   ]
  },
  {
   "cell_type": "markdown",
   "id": "9c019c9e-9ba4-40d6-9569-6704270fda3f",
   "metadata": {},
   "source": [
    "# Save File"
   ]
  },
  {
   "cell_type": "code",
   "execution_count": 10,
   "id": "54639227-76dc-4749-839c-e751ebd505b4",
   "metadata": {
    "scrolled": true
   },
   "outputs": [
    {
     "name": "stdout",
     "output_type": "stream",
     "text": [
      "Excel file saved as `sofascore.xlsx`\n"
     ]
    }
   ],
   "source": [
    "save_excel(team_data, OUTPUT_FILE)"
   ]
  }
 ],
 "metadata": {
  "kernelspec": {
   "display_name": ".venv_sofascore-scraper",
   "language": "python",
   "name": ".venv_sofascore-scraper"
  },
  "language_info": {
   "codemirror_mode": {
    "name": "ipython",
    "version": 3
   },
   "file_extension": ".py",
   "mimetype": "text/x-python",
   "name": "python",
   "nbconvert_exporter": "python",
   "pygments_lexer": "ipython3",
   "version": "3.12.8"
  }
 },
 "nbformat": 4,
 "nbformat_minor": 5
}
